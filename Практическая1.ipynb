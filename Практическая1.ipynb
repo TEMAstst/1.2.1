{
  "nbformat": 4,
  "nbformat_minor": 0,
  "metadata": {
    "colab": {
      "name": "Практическая1",
      "provenance": [],
      "collapsed_sections": [],
      "authorship_tag": "ABX9TyMM67lyTBH/+RDo8pmO1m5d"
    },
    "kernelspec": {
      "name": "python3",
      "display_name": "Python 3"
    },
    "language_info": {
      "name": "python"
    }
  },
  "cells": [
    {
      "cell_type": "markdown",
      "metadata": {
        "id": "kELPMrBMMfO9"
      },
      "source": [
        "Задание 1"
      ]
    },
    {
      "cell_type": "code",
      "metadata": {
        "colab": {
          "base_uri": "https://localhost:8080/"
        },
        "id": "xQ7e1GdKMat_",
        "outputId": "ed2c589a-43cd-461b-9f2d-8f1381f296ab"
      },
      "source": [
        "class First:\n",
        "    color = \"red\"\n",
        "    def out(self):\n",
        "        print(self.color + \"!\")\n",
        "\n",
        "obj1 = First()\n",
        "obj2 = First()\n",
        "\n",
        "print(obj1.color)\n",
        "print(obj2.color)\n",
        "\n",
        "obj1.out()\n",
        "obj2.out()"
      ],
      "execution_count": null,
      "outputs": [
        {
          "output_type": "stream",
          "name": "stdout",
          "text": [
            "red\n",
            "red\n",
            "red!\n",
            "red!\n",
            "red\n",
            "red\n",
            "red!\n",
            "red!\n"
          ]
        }
      ]
    },
    {
      "cell_type": "markdown",
      "metadata": {
        "id": "un16DwZ2MulO"
      },
      "source": [
        "Задание 2"
      ]
    },
    {
      "cell_type": "code",
      "metadata": {
        "colab": {
          "base_uri": "https://localhost:8080/"
        },
        "id": "r0lLef46Mzvb",
        "outputId": "c69cbbef-08f6-447d-a3dc-d62974412eef"
      },
      "source": [
        "class Second:\n",
        "    color = \"red\"\n",
        "    form = \"circle\"\n",
        "    square = 100 # новое добавленное свойство\n",
        "    \n",
        "\n",
        "    def changecolor (self, newcolor):\n",
        "        self.color = newcolor\n",
        "\n",
        "    def changeform (self, newform):\n",
        "        self.form = newform\n",
        "\n",
        "    def changesquare (self, newsquare): # метод, позволяющий менять новое свойство\n",
        "        self.square = newsquare\n",
        "\n",
        "obj1 = Second()\n",
        "obj2 = Second()\n",
        "obj3 = Second() # создание третьего объекта\n",
        "\n",
        "print(obj1.color, obj1.form, obj1.square)\n",
        "print(obj2.color, obj2.form, obj2.square)\n",
        "print(obj3.color, obj3.form, obj3.square)\n",
        "\n",
        "obj1.changecolor(\"green\")\n",
        "obj2.changecolor(\"blue\")\n",
        "obj2.changeform(\"oval\")\n",
        "# меняю свойства третьего объекта:\n",
        "obj3.changecolor(\"yellow\")\n",
        "obj3.changeform(\"triangle\")\n",
        "obj3.changesquare(200) \n",
        "\n",
        "print(obj1.color, obj1.form, obj1.square)\n",
        "print(obj2.color, obj2.form, obj2.square)\n",
        "print(obj3.color, obj3.form, obj3.square)"
      ],
      "execution_count": null,
      "outputs": [
        {
          "output_type": "stream",
          "name": "stdout",
          "text": [
            "red circle 100\n",
            "red circle 100\n",
            "red circle 100\n",
            "green circle 100\n",
            "blue oval 100\n",
            "yellow triangle 200\n",
            "red circle 100\n",
            "red circle 100\n",
            "red circle 100\n",
            "green circle 100\n",
            "blue oval 100\n",
            "yellow triangle 200\n"
          ]
        }
      ]
    },
    {
      "cell_type": "code",
      "metadata": {
        "colab": {
          "base_uri": "https://localhost:8080/"
        },
        "id": "sfSFfqB6NCjq",
        "outputId": "46aaf09c-e648-4e5e-b1d6-3a93886d817f"
      },
      "source": [
        "class Standart: # первый класс\n",
        "    growth = 180\n",
        "\n",
        "class Small: # второй класс\n",
        "    def minus_growth(self, growth): # метод который обрабатывает свойства второго объекта\n",
        "        return growth - 100\n",
        "\n",
        "K = Small() # первый объект, принадлежит второму классу\n",
        "N = Standart() # второй объект, принадлежит первому классу\n",
        "\n",
        "print(N.growth)\n",
        "print(K.minus_growth(N.growth)) # obj1.МЕТОД(obj2.СВОЙСТВО)."
      ],
      "execution_count": null,
      "outputs": [
        {
          "output_type": "stream",
          "name": "stdout",
          "text": [
            "180\n",
            "80\n",
            "180\n",
            "80\n"
          ]
        }
      ]
    },
    {
      "cell_type": "markdown",
      "metadata": {
        "id": "k-3ohH5_fUta"
      },
      "source": [
        "Задание 3"
      ]
    },
    {
      "cell_type": "code",
      "metadata": {
        "colab": {
          "base_uri": "https://localhost:8080/"
        },
        "id": "0B_UlL2lfTrI",
        "outputId": "cf98bcf8-0693-447e-b8b6-6e0738fd0b42"
      },
      "source": [
        "# Программа с использованием конструктора:\n",
        "class YesInit:\n",
        "    def __init__(self, one, two):\n",
        "        self.fname = one\n",
        "        self.sname = two\n",
        "\n",
        "# у объекта 2 атрибута: fname и sname инициализируются при создании объекта\n",
        "# и должны передоваться в скобках при вызове класса:\n",
        "\n",
        "obj1 = YesInit(\"Peter\", \"Ok\")\n",
        "\n",
        "print(obj1.fname, obj1.sname)\n",
        "\n",
        "# Программа без использования конструктора:\n",
        "class NoInit:\n",
        "    def names(self, one, two):\n",
        "        self.fname = one\n",
        "        self.sname = two\n",
        "\n",
        "# атрибуты создаются путем вызова метода names после создания объекта\n",
        "# в данном случае вызов метода names необязателен,\n",
        "# поэтому объекты могут существовать без атрибутов fname и sname:\n",
        "\n",
        "obj1 = NoInit()\n",
        "obj1.names(\"Peter\", \"Ok\")\n",
        "\n",
        "print(obj1.fname, obj1.sname)"
      ],
      "execution_count": null,
      "outputs": [
        {
          "output_type": "stream",
          "name": "stdout",
          "text": [
            "Peter Ok\n",
            "Peter Ok\n",
            "Peter Ok\n",
            "Peter Ok\n"
          ]
        }
      ]
    },
    {
      "cell_type": "markdown",
      "source": [
        "Задание 4"
      ],
      "metadata": {
        "id": "WGStRFgfwI-x"
      }
    },
    {
      "cell_type": "code",
      "metadata": {
        "colab": {
          "base_uri": "https://localhost:8080/"
        },
        "id": "M71ja3SKx4Vy",
        "outputId": "224ac0b6-c3f2-4b04-ca18-4b35549f1543"
      },
      "source": [
        "class YesInit:\n",
        "    def __init__(self, one = \"noname\", two = \"nonametoo\"): # заданы аргументы по умолчанию\n",
        "        self.fname = one\n",
        "        self.sname = two\n",
        "\n",
        "obj1 = YesInit(\"Sacha\", \"Tu\") # все ок\n",
        "obj2 = YesInit() # создан без аргументов, потому используются аргументы по умолчанию\n",
        "obj3 = YesInit(\"Spartak\") # первый аргумент введен, второй пол умолчанию\n",
        "obj4 = YesInit(two = \"Harry\") # так как задается не первый аргумент, уточняется, что он второй\n",
        "                              # первый аргумент по умолчанию\n",
        "\n",
        "print(obj1.fname, obj1.sname)\n",
        "print(obj2.fname, obj2.sname)\n",
        "print(obj3.fname, obj3.sname)\n",
        "print(obj4.fname, obj4.sname)"
      ],
      "execution_count": null,
      "outputs": [
        {
          "output_type": "stream",
          "name": "stdout",
          "text": [
            "Sacha Tu\n",
            "noname nonametoo\n",
            "Spartak nonametoo\n",
            "noname Harry\n",
            "Sacha Tu\n",
            "noname nonametoo\n",
            "Spartak nonametoo\n",
            "noname Harry\n"
          ]
        }
      ]
    },
    {
      "cell_type": "markdown",
      "source": [
        "Задание 5"
      ],
      "metadata": {
        "id": "aUK-xRoOw4nP"
      }
    },
    {
      "cell_type": "code",
      "metadata": {
        "colab": {
          "base_uri": "https://localhost:8080/"
        },
        "id": "MhV6MqHfyilX",
        "outputId": "410cc9b5-8f90-4f65-a5bf-d81533c978e6"
      },
      "source": [
        "# все работает хорошо, потому что аргумент, который обязательно должен быть \n",
        "# указан при создании объекта, указан первым\n",
        "# а параметр по умолчанию - после\n",
        "class fruits:\n",
        "    def __init__(self, w, n = 0): # w - первое, n - второе\n",
        "        self.what = w\n",
        "        self.numbers = n\n",
        "\n",
        "f1 = fruits(\"apple\", 150) # w - первое, n - второе\n",
        "f2 = fruits(\"pineapple\")\n",
        "\n",
        "print(f1.what, f1.numbers)\n",
        "print(f2.what, f2.numbers)"
      ],
      "execution_count": null,
      "outputs": [
        {
          "output_type": "stream",
          "name": "stdout",
          "text": [
            "apple 150\n",
            "pineapple 0\n"
          ]
        }
      ]
    },
    {
      "cell_type": "code",
      "metadata": {
        "colab": {
          "base_uri": "https://localhost:8080/",
          "height": 130
        },
        "id": "e6fa6iOHyn7f",
        "outputId": "4617bf7d-6232-47a8-cfda-d8858023f850"
      },
      "source": [
        "#здесь же программа с ошибкой:\n",
        "class fruits:\n",
        "    def __init__(self, n = 0, w): # ERROR\n",
        "        self.what = w\n",
        "        self.numbers = n\n",
        "\n",
        "f1=fruits(150, \"apple\")\n",
        "f2=fruits(\"pineapple\")\n",
        "\n",
        "print(f1.what, f1.numbers)\n",
        "print(f2.what, f2.numbers)"
      ],
      "execution_count": null,
      "outputs": [
        {
          "output_type": "error",
          "ename": "SyntaxError",
          "evalue": "ignored",
          "traceback": [
            "\u001b[0;36m  File \u001b[0;32m\"<ipython-input-16-c857e1048e6f>\"\u001b[0;36m, line \u001b[0;32m3\u001b[0m\n\u001b[0;31m    def __init__(self, n = 0, w): # ERROR\u001b[0m\n\u001b[0m                ^\u001b[0m\n\u001b[0;31mSyntaxError\u001b[0m\u001b[0;31m:\u001b[0m non-default argument follows default argument\n"
          ]
        }
      ]
    },
    {
      "cell_type": "markdown",
      "source": [
        "Задание 6"
      ],
      "metadata": {
        "id": "asgLgE8XxCC7"
      }
    },
    {
      "cell_type": "code",
      "source": [
        "class Building:\n",
        "\tdef __init__(self,w,c,n=0):\n",
        "\t\tself.what = w\n",
        "\t\tself.color = c\n",
        "\t\tself.numbers = n\n",
        "\t\tself.mwhere(n)\n",
        "\tdef mwhere(self,n):\n",
        "\t\tif n<=0:\n",
        "\t\t\tself.where = \"отстутствуют\"\n",
        "\t\telif 0<n<100:\n",
        "\t\t\tself.where = \"Малый склад\"\n",
        "\t\telse:\n",
        "\t\t\tself.where = \"основной склад\"\n",
        "\tdef plus(self,p):\n",
        "\t\tself.numbers = self.numbers + p\n",
        "\t\tself.mwhere(self.numbers)\n",
        "\tdef minus(self,m):\n",
        "\t\tself.numbers = self.numbers - m\n",
        "\t\tself.mwhere(self.numbers)\n",
        "m1 = Building(\"доски\",\"белые\",50)\n",
        "m2 = Building(\"доски\",\"коричневые\",300)\n",
        "m3 = Building(\"кирпичи\",\"белые\")\n",
        "print(m1.what,m1.color,m1.where)\n",
        "print(m2.what,m2.color,m2.where)\n",
        "print(m3.what,m3.color,m3.where)\n",
        "m1.plus(500)\n",
        "print(m1.numbers,m1.where)"
      ],
      "metadata": {
        "colab": {
          "base_uri": "https://localhost:8080/"
        },
        "id": "Z4NT5j-x56S0",
        "outputId": "eae6e0eb-807a-43aa-8f3a-d072d3115ada"
      },
      "execution_count": 65,
      "outputs": [
        {
          "output_type": "stream",
          "name": "stdout",
          "text": [
            "доски белые Малый склад\n",
            "доски коричневые основной склад\n",
            "кирпичи белые отстутствуют\n",
            "550 основной склад\n"
          ]
        }
      ]
    },
    {
      "cell_type": "markdown",
      "source": [
        "Задание 7"
      ],
      "metadata": {
        "id": "TvcJca_L_OLY"
      }
    },
    {
      "cell_type": "code",
      "source": [
        "# исправленный код:\n",
        "\n",
        "class Things:\n",
        "    def __init__(self, n, t):\n",
        "        self.namething = n\n",
        "        self.total = t\n",
        "\n",
        "th1 = Things(\"table\", 5)\n",
        "th2 = Things(\"computer\", 7)\n",
        "\n",
        "print(th1.namething, th1.total)\n",
        "print(th2.namething, th2.total)\n",
        "\n",
        "th1.color = \"green\"\n",
        "th2.color = \"red\" # добавил цвет второму объекту\n",
        "\n",
        "print(th1.color)\n",
        "print(th2.color)"
      ],
      "metadata": {
        "colab": {
          "base_uri": "https://localhost:8080/"
        },
        "id": "EY6NOrcGLxjk",
        "outputId": "e444fdfe-0d89-4d0d-abac-d9e537345e81"
      },
      "execution_count": 66,
      "outputs": [
        {
          "output_type": "stream",
          "name": "stdout",
          "text": [
            "table 5\n",
            "computer 7\n",
            "green\n",
            "red\n"
          ]
        }
      ]
    },
    {
      "cell_type": "markdown",
      "source": [
        "Задание 8"
      ],
      "metadata": {
        "id": "7oMd76huL_p9"
      }
    },
    {
      "cell_type": "code",
      "source": [
        "class Table:\n",
        "    def __init__ (self, l, w, h):\n",
        "        self.long = l\n",
        "        self.widght = w\n",
        "        self.height = h\n",
        "\n",
        "    def outing(self): # Метод, который пишет параметры стола\n",
        "        print(self.long, self.widght, self.height)\n",
        "\n",
        "class Kitchen(Table):\n",
        "# Метод, который пишет, что если мест меньше 2, то это не кух. стол\n",
        "    def howplaces(self, n):\n",
        "        if n < 2:\n",
        "            print(\"It is not kitchen table\")\n",
        "        else:\n",
        "            self.places = n\n",
        "\n",
        "    def outplaces(self): # Метод, который пишет кол-во мест\n",
        "        print(self.places)\n",
        "\n",
        "class Worker(Table): # второй подкласс класса Table, Worker\n",
        "    def __init__(self, l, w, h, v = 1):\n",
        "        Table.__init__(self, l, w, h)\n",
        "        self.vodka = v\n",
        "\n",
        "    def plus_vodka(self, v): # 1-ый метод, отлич. от класса Kitchen()\n",
        "        self.vodka += v\n",
        "        print(\"Теперь на столе {} водки\".format(self.vodka))\n",
        "\n",
        "    def minus_vodka(self, v): # 2-ой метод, отлич. от класса Kitchen()\n",
        "        self.vodka -= v\n",
        "        print(\"Теперь на столе {} водки\".format(self.vodka))\n",
        "\n",
        "class DeskTable(Table): # тоже наследник класса стол (делали на паре 08.10)\n",
        "    def square(self):\n",
        "        return self.widght * self.long\n",
        "\n",
        "W1 = Worker(2, 1, 0.5)\n",
        "W1.outing()\n",
        "W1.plus_vodka(10)\n",
        "W1.minus_vodka(1)\n",
        "\n",
        "D1 = DeskTable(4, 5, 5)\n",
        "print(\"Площадь парты = {}\".format(D1.square()))"
      ],
      "metadata": {
        "colab": {
          "base_uri": "https://localhost:8080/"
        },
        "id": "CPxCX6NIMBzO",
        "outputId": "826d7d10-c8f5-444b-956b-72d708df5107"
      },
      "execution_count": 67,
      "outputs": [
        {
          "output_type": "stream",
          "name": "stdout",
          "text": [
            "2 1 0.5\n",
            "Теперь на столе 11 водки\n",
            "Теперь на столе 10 водки\n",
            "Площадь парты = 20\n"
          ]
        }
      ]
    },
    {
      "cell_type": "code",
      "source": [
        "class figure: # класс \"геометрические фигуры\"\n",
        "    color = \"white\" # свойство color с изначальным значением white\n",
        "\n",
        "    def changecolor(self, newcolor): # метод для изменения цвета фигуры\n",
        "        self.color = newcolor\n",
        "\n",
        "class oval(figure): # подкласс \"овал\"\n",
        "# метод __init__ для задания начальных размеров объектов при их создании\n",
        "    def __init__(self, razmer):\n",
        "        self.razmer = razmer\n",
        "\n",
        "class square(figure): # подкласс \"квадрат\"\n",
        "# метод __init__ для задания начальных размеров объектов при их создании\n",
        "    def __init__(self, razmer):\n",
        "        self.razmer = razmer\n",
        "\n",
        "O1 = oval(10)\n",
        "S1 = square(300)\n",
        "\n",
        "print(\"Цвет O1 до изменения: {}\".format(O1.color))\n",
        "O1.changecolor(\"red\")\n",
        "print(\"Цвет O1 после изменения изменения: {}\".format(O1.color))\n",
        "print(\"Размер O1 = {}\".format(O1.razmer))\n",
        "\n",
        "print(\"Размер S1 = {}\".format(S1.razmer))\n",
        "print(\"Цвет S1 до изменения: {}\".format(S1.color))"
      ],
      "metadata": {
        "colab": {
          "base_uri": "https://localhost:8080/"
        },
        "id": "udbT3e9eMkpo",
        "outputId": "c2592ed8-7469-4cea-81ce-9db8a4b682c0"
      },
      "execution_count": 68,
      "outputs": [
        {
          "output_type": "stream",
          "name": "stdout",
          "text": [
            "Цвет O1 до изменения: white\n",
            "Цвет O1 после изменения изменения: red\n",
            "Размер O1 = 10\n",
            "Размер S1 = 300\n",
            "Цвет S1 до изменения: white\n"
          ]
        }
      ]
    }
  ]
}