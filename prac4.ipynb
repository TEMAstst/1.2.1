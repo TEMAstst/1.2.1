{
  "nbformat": 4,
  "nbformat_minor": 0,
  "metadata": {
    "colab": {
      "name": "Untitled3.ipynb",
      "provenance": [],
      "authorship_tag": "ABX9TyNTDoBmO0PbTrAIOr0VS/e1"
    },
    "kernelspec": {
      "name": "python3",
      "display_name": "Python 3"
    },
    "language_info": {
      "name": "python"
    }
  },
  "cells": [
    {
      "cell_type": "code",
      "metadata": {
        "id": "RTz9QfMDFqh7"
      },
      "source": [
        "class Person:\n",
        "  def __init__(self,age,gender):\n",
        "    self.age=age\n",
        "    self.gender=gender\n",
        "\n",
        "class Employee(Person):\n",
        "  def __init__(self,age,hours,gender,company=\"ООО Небстрой\"):\n",
        "    self.hours=hours\n",
        "    Person.__init__(self,age,gender)\n",
        "    self.age=age\n",
        "    self.gender=gender\n",
        "\n",
        "class Worker(Employee):\n",
        "  def pay(self):\n",
        "    return self.hours*100*30\n",
        "\n",
        "class Engineer(Employee):\n",
        "  def pay(self):\n",
        "    return self.hours*300*30"
      ],
      "execution_count": 1,
      "outputs": []
    },
    {
      "cell_type": "code",
      "metadata": {
        "colab": {
          "base_uri": "https://localhost:8080/"
        },
        "id": "5gP-jXpZ-Q5K",
        "outputId": "dfc85652-d7fe-470f-e524-c902cbeaf046"
      },
      "source": [
        "worker=Worker(36,12,'m')\n",
        "print(\"Зарплата рабочего = \",worker.pay(), 'рублей')\n",
        "engineer=Engineer(36,12,'W')\n",
        "print(\"Зарплата инженера = \",engineer.pay(), 'рублей, ведь у него есть высшее образование')"
      ],
      "execution_count": 2,
      "outputs": [
        {
          "output_type": "stream",
          "name": "stdout",
          "text": [
            "Зарплата рабочего =  36000 рублей\n",
            "Зарплата инженера =  108000 рублей, ведь у него есть высшее образование\n"
          ]
        }
      ]
    }
  ]
}