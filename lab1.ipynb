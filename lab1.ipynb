{
  "nbformat": 4,
  "nbformat_minor": 0,
  "metadata": {
    "colab": {
      "name": "lab1.ipynb",
      "provenance": [],
      "collapsed_sections": [],
      "authorship_tag": "ABX9TyO54IbX/UICOUmC2TfEq9W1"
    },
    "kernelspec": {
      "name": "python3",
      "display_name": "Python 3"
    },
    "language_info": {
      "name": "python"
    }
  },
  "cells": [
    {
      "cell_type": "markdown",
      "source": [
        "1.1 Считайте число n. Создайте в переменной Z Numpy вектор из нулей длины n."
      ],
      "metadata": {
        "id": "aeiDOxRV82j6"
      }
    },
    {
      "cell_type": "code",
      "execution_count": null,
      "metadata": {
        "colab": {
          "base_uri": "https://localhost:8080/"
        },
        "id": "VbyYozGK7XsP",
        "outputId": "aa3eeaf0-692a-49d5-ee7b-2698d5072075"
      },
      "outputs": [
        {
          "output_type": "stream",
          "name": "stdout",
          "text": [
            "[0. 0. 0. 0. 0.]\n"
          ]
        }
      ],
      "source": [
        "import numpy as np\n",
        "\n",
        "n = int(input(\"Введите количество чисел в массиве: \"))\n",
        "Z = np.zeros(n)\n",
        "\n",
        "#print(Z)\n",
        "\n",
        "import timeit\n",
        "timeit.timeit('\"-\".join(str(n) for n in range(100))', number=10000)"
      ]
    },
    {
      "cell_type": "code",
      "source": [
        "import numpy as np\n",
        "\n",
        "n = int(input(\"Введите количество чисел в массиве: \"))\n",
        "Z = np.full(n, 0.)\n",
        "\n",
        "#print(Z)\n",
        "\n",
        "import timeit\n",
        "timeit.timeit('\"-\".join(str(n) for n in range(100))', number=10000)"
      ],
      "metadata": {
        "id": "DmrsU2BeMiau"
      },
      "execution_count": null,
      "outputs": []
    },
    {
      "cell_type": "markdown",
      "source": [
        "1.2. Посчитайте размер матрицы Z в байтах и выведите его на печать. Чтобы узнать\n",
        "размер (в байтах) 1 элемента матрицы используйте\n",
        "атрибут https://docs.scipy.org/doc/numpy1.15.1/reference/generated/numpy.ndarray.itemsize.html"
      ],
      "metadata": {
        "id": "yhzWOX2gDHHU"
      }
    },
    {
      "cell_type": "code",
      "source": [
        "import timeit\n",
        "timeit.timeit('\"-\".join(str(n) for n in range(100))', number=10000)\n",
        "\n",
        "import numpy as np\n",
        "\n",
        "class Matr:\n",
        "    def __init__(self, dlin, Z = []):\n",
        "        self.dlin = dlin\n",
        "        self.Z = Z\n",
        "\n",
        "        \n",
        "    def bait1 (self):\n",
        "        self.Z = np.random.random()\n",
        "        self.dlin = Z.itemsize\n",
        "        print(timeit.timeit('\"-\".join(str(n) for n in range(100))', number=10000))\n",
        "        return self.dlin\n",
        "        \n",
        "    def bait2 (self):\n",
        "        self.Z = np.array([1,2,3], dtype=np.float64)\n",
        "        self.dlin = len(str(self.Z))\n",
        "        print(timeit.timeit('\"-\".join(str(n) for n in range(100))', number=10000))\n",
        "        return self.dlin \n",
        "    \n",
        "    def bait3 (self):\n",
        "        self.Z = np.zeros((10,10))\n",
        "        self.dlin = Z.itemsize\n",
        "        print(timeit.timeit('\"-\".join(str(n) for n in range(100))', number=10000))\n",
        "        return self.dlin \n",
        "    \n",
        "    \n",
        "obj1 = Matr(0, 0)\n",
        "print(obj1.bait1())\n",
        "print(obj1.bait2())\n",
        "print(obj1.bait3())"
      ],
      "metadata": {
        "colab": {
          "base_uri": "https://localhost:8080/"
        },
        "id": "gBgZ75VaDNpU",
        "outputId": "fdcbd074-ce0d-4c7f-a428-71ccdb0b6719"
      },
      "execution_count": 49,
      "outputs": [
        {
          "output_type": "stream",
          "name": "stdout",
          "text": [
            "0.24836681199985833\n",
            "8\n",
            "0.2458149610001783\n",
            "10\n",
            "0.23940903100037758\n",
            "8\n"
          ]
        }
      ]
    },
    {
      "cell_type": "markdown",
      "source": [
        "1.3. Считайте 2 числа:\n",
        "\n",
        " n - размер Numpy вектора\n",
        "\n",
        " x - координата элемента вектора, который должен быть равен 1. Остальные элементы вектора\n",
        "должны быть равны 0. Сохраните вектор в переменную Z.\n"
      ],
      "metadata": {
        "id": "EjypQdXVF6TB"
      }
    },
    {
      "cell_type": "code",
      "source": [
        "import numpy as np\n",
        "\n",
        "n = int(input(\"Введите количество чисел в массиве: \"))\n",
        "Z = np.zeros(n)\n",
        "x = int(input(\"Введите координату элемента вектора который должен быть равен 1: \"))\n",
        "Z[x] = 1\n",
        "\n",
        "print(Z)\n",
        "\n",
        "import timeit\n",
        "timeit.timeit('\"-\".join(str(n) for n in range(100))', number=10000)"
      ],
      "metadata": {
        "colab": {
          "base_uri": "https://localhost:8080/"
        },
        "id": "CQIlMmD9GEtI",
        "outputId": "4e51255e-ba4c-42e5-c40a-0662f38700ee"
      },
      "execution_count": 7,
      "outputs": [
        {
          "output_type": "stream",
          "name": "stdout",
          "text": [
            "Введите количество чисел в массиве: 10\n",
            "Введите координату элемента вектора который должен быть равен 1: 4\n",
            "[0. 0. 0. 0. 1. 0. 0. 0. 0. 0.]\n"
          ]
        },
        {
          "output_type": "execute_result",
          "data": {
            "text/plain": [
              "0.23625716600002988"
            ]
          },
          "metadata": {},
          "execution_count": 7
        }
      ]
    },
    {
      "cell_type": "code",
      "source": [
        "import numpy as np\n",
        "\n",
        "n = int(input(\"Введите количество чисел в массиве: \"))\n",
        "Z = np.full(n, 0.)\n",
        "x = int(input(\"Введите координату элемента вектора который должен бытть равен 1: \"))\n",
        "Z[x] = 1\n",
        "print(Z)\n",
        "\n",
        "import timeit\n",
        "timeit.timeit('\"-\".join(str(n) for n in range(100))', number=10000)"
      ],
      "metadata": {
        "colab": {
          "base_uri": "https://localhost:8080/"
        },
        "id": "CZmjo8hAOsfa",
        "outputId": "a2bf3880-cf0a-4d4c-cbcf-f7066ed0c4d5"
      },
      "execution_count": 11,
      "outputs": [
        {
          "output_type": "stream",
          "name": "stdout",
          "text": [
            "Введите количество чисел в массиве: 100\n",
            "Введите координату элемента вектора который должен бытть равен 1: 8\n",
            "[0. 0. 0. 0. 0. 0. 0. 0. 1. 0. 0. 0. 0. 0. 0. 0. 0. 0. 0. 0. 0. 0. 0. 0.\n",
            " 0. 0. 0. 0. 0. 0. 0. 0. 0. 0. 0. 0. 0. 0. 0. 0. 0. 0. 0. 0. 0. 0. 0. 0.\n",
            " 0. 0. 0. 0. 0. 0. 0. 0. 0. 0. 0. 0. 0. 0. 0. 0. 0. 0. 0. 0. 0. 0. 0. 0.\n",
            " 0. 0. 0. 0. 0. 0. 0. 0. 0. 0. 0. 0. 0. 0. 0. 0. 0. 0. 0. 0. 0. 0. 0. 0.\n",
            " 0. 0. 0. 0.]\n"
          ]
        },
        {
          "output_type": "execute_result",
          "data": {
            "text/plain": [
              "0.23874455199995737"
            ]
          },
          "metadata": {},
          "execution_count": 11
        }
      ]
    },
    {
      "cell_type": "markdown",
      "source": [
        "1.4. Считайте 2 числа n, m. Создайте вектор Z состоящий из чисел от n до m с шагом 1.\n"
      ],
      "metadata": {
        "id": "cskEr7iugDX9"
      }
    },
    {
      "cell_type": "code",
      "source": [
        "import numpy as np\n",
        "\n",
        "n = int(input(\"Введите первое число вектора: \"))\n",
        "m = int(input(\"Введите второе число вектора: \"))\n",
        "Z = np.arange(n, m)\n",
        "\n",
        "print(Z)\n",
        "\n",
        "import timeit\n",
        "timeit.timeit('\"-\".join(str(n) for n in range(100))', number=10000)\n"
      ],
      "metadata": {
        "colab": {
          "base_uri": "https://localhost:8080/"
        },
        "id": "pPKWCZVmgEJ6",
        "outputId": "54aa7853-1909-40b8-ca58-b68a1cff73de"
      },
      "execution_count": 13,
      "outputs": [
        {
          "output_type": "stream",
          "name": "stdout",
          "text": [
            "Введите первое число вектора: 10\n",
            "Введите второе число вектора: 50\n",
            "[10 11 12 13 14 15 16 17 18 19 20 21 22 23 24 25 26 27 28 29 30 31 32 33\n",
            " 34 35 36 37 38 39 40 41 42 43 44 45 46 47 48 49]\n"
          ]
        },
        {
          "output_type": "execute_result",
          "data": {
            "text/plain": [
              "0.2432243409999728"
            ]
          },
          "metadata": {},
          "execution_count": 13
        }
      ]
    },
    {
      "cell_type": "markdown",
      "source": [
        "1.5. Дан вектор Z. \"Разверните\" его."
      ],
      "metadata": {
        "id": "laZdGyWxeWLR"
      }
    },
    {
      "cell_type": "code",
      "source": [
        "import numpy as np\n",
        "\n",
        "n = int(input(\"Введите количество чисел в массиве: \"))\n",
        "Z = np.random.random(n)\n",
        "#print(Z)\n",
        "Z = Z[::-1]\n",
        "#print(Z)\n",
        "\n",
        "import timeit\n",
        "timeit.timeit('\"-\".join(str(n) for n in range(100))', number=10000)"
      ],
      "metadata": {
        "colab": {
          "base_uri": "https://localhost:8080/"
        },
        "id": "cmmxGGIQeaKX",
        "outputId": "a1f8e8e2-497e-412a-deec-ea5ebc5e77b5"
      },
      "execution_count": null,
      "outputs": [
        {
          "output_type": "stream",
          "name": "stdout",
          "text": [
            "[4 3 2 1]\n"
          ]
        }
      ]
    },
    {
      "cell_type": "code",
      "source": [
        "import numpy as np\n",
        "\n",
        "n = int(input(\"Введите количество чисел в массиве: \"))\n",
        "Z = np.arange(n)\n",
        "\n",
        "for elem in reversed(Z):\n",
        "    print(elem)\n",
        "    \n",
        "import timeit\n",
        "timeit.timeit('\"-\".join(str(n) for n in range(100))', number=10000)"
      ],
      "metadata": {
        "colab": {
          "base_uri": "https://localhost:8080/"
        },
        "id": "pn5Di-OSP-nY",
        "outputId": "dfab9005-1cff-46be-9c4e-6c7b1aa6150e"
      },
      "execution_count": 15,
      "outputs": [
        {
          "output_type": "stream",
          "name": "stdout",
          "text": [
            "Введите количество чисел в массиве: 10\n",
            "9\n",
            "8\n",
            "7\n",
            "6\n",
            "5\n",
            "4\n",
            "3\n",
            "2\n",
            "1\n",
            "0\n"
          ]
        },
        {
          "output_type": "execute_result",
          "data": {
            "text/plain": [
              "0.24738146799995775"
            ]
          },
          "metadata": {},
          "execution_count": 15
        }
      ]
    },
    {
      "cell_type": "markdown",
      "source": [
        "1.6. Считайте 3 числа:\n",
        "\n",
        " n - количество элементов матрицы\n",
        "\n",
        " m и k - размеры матрицы (число строк и столбцов соответственно)\n",
        "Заполните матрицу Z числами от 0 до n-1 по порядку (сперва строки, потом столбцы).\n",
        "Гарантируется, что m*k = n, т.е. все элементы \"влезут\" в матрицу и не останется\n",
        "пустых мест."
      ],
      "metadata": {
        "id": "MLiX_rI8sUi0"
      }
    },
    {
      "cell_type": "code",
      "source": [
        "import numpy as np\n",
        "\n",
        "n = int(input(\"Введите количество чисел в массиве: \"))\n",
        "m = int(input(\"Введите количество строк: \"))\n",
        "k = int(input(\"Введите количество столбцов: \"))\n",
        "Z = np.arange(n).reshape(m, k)\n",
        "\n",
        "\n",
        "print(Z)\n",
        "\n",
        "import timeit\n",
        "timeit.timeit('\"-\".join(str(n) for n in range(100))', number=10000)"
      ],
      "metadata": {
        "colab": {
          "base_uri": "https://localhost:8080/"
        },
        "id": "mksAtIhffA_B",
        "outputId": "30442a9c-3935-41e5-d97f-4ee1f163f62d"
      },
      "execution_count": 16,
      "outputs": [
        {
          "output_type": "stream",
          "name": "stdout",
          "text": [
            "Введите количество чисел в массиве: 6\n",
            "Введите количество строк: 2\n",
            "Введите количество столбцов: 3\n",
            "[[0 1 2]\n",
            " [3 4 5]]\n"
          ]
        },
        {
          "output_type": "execute_result",
          "data": {
            "text/plain": [
              "0.23956213999986176"
            ]
          },
          "metadata": {},
          "execution_count": 16
        }
      ]
    },
    {
      "cell_type": "code",
      "source": [
        "import numpy as np\n",
        "\n",
        "n = int(input(\"Введите количество элементов матрицы: \"))\n",
        "m = int(input(\"Введите количество строк: \"))\n",
        "k = int(input(\"Введите количество столбцов: \"))\n",
        "counter = 0\n",
        "Z = np.full((m, k), n)\n",
        "for row in range(m):\n",
        "    for colum in range(k):\n",
        "        Z[row][colum] = counter\n",
        "        counter += 1\n",
        "\n",
        "print(Z)\n",
        "\n",
        "import timeit\n",
        "timeit.timeit('\"-\".join(str(n) for n in range(100))', number=10000)\n"
      ],
      "metadata": {
        "colab": {
          "base_uri": "https://localhost:8080/"
        },
        "id": "1uMonvt-Qdq1",
        "outputId": "6ca17969-980b-4466-b5ae-516532806f41"
      },
      "execution_count": 17,
      "outputs": [
        {
          "output_type": "stream",
          "name": "stdout",
          "text": [
            "Введите количество элементов матрицы: 9\n",
            "Введите количество строк: 3\n",
            "Введите количество столбцов: 3\n",
            "[[0 1 2]\n",
            " [3 4 5]\n",
            " [6 7 8]]\n"
          ]
        },
        {
          "output_type": "execute_result",
          "data": {
            "text/plain": [
              "0.2552814869998201"
            ]
          },
          "metadata": {},
          "execution_count": 17
        }
      ]
    },
    {
      "cell_type": "markdown",
      "source": [
        "1.7. Дан вектор Z. Запишите в переменную NonZerros индексы ненулевых элементов"
      ],
      "metadata": {
        "id": "e7fOm7K43nLp"
      }
    },
    {
      "cell_type": "code",
      "source": [
        "import numpy as np\n",
        "\n",
        "Z = np.array([0, 2, 4, 6])\n",
        "def NZ():\n",
        "    NonZerros = np.nonzero(Z)\n",
        "    print(NonZerros)\n",
        "\n",
        "K = np.array([1, 0, 2, 0, 3, 0, 4])\n",
        "def NZ1():\n",
        "    NonZerros1 = np.nonzero(K)\n",
        "    print(NonZerros1)\n",
        "\n",
        "Q = [1, 2, 0, 0, 4, 0]\n",
        "def NZ2():\n",
        "    NonZerros1 = np.nonzero(Q)\n",
        "    print(NonZerros1)\n",
        "\n",
        "NZ()\n",
        "NZ1()\n",
        "NZ2()\n",
        "\n",
        "import timeit\n",
        "timeit.timeit('\"-\".join(str(n) for n in range(100))', number=10000)"
      ],
      "metadata": {
        "colab": {
          "base_uri": "https://localhost:8080/"
        },
        "id": "2Ia9NtXUvo9B",
        "outputId": "3ec87b66-b47f-44b9-9fcc-5f3f413026ab"
      },
      "execution_count": 18,
      "outputs": [
        {
          "output_type": "stream",
          "name": "stdout",
          "text": [
            "(array([1, 2, 3]),)\n",
            "(array([0, 2, 4, 6]),)\n",
            "(array([0, 1, 4]),)\n"
          ]
        },
        {
          "output_type": "execute_result",
          "data": {
            "text/plain": [
              "0.26424201300005734"
            ]
          },
          "metadata": {},
          "execution_count": 18
        }
      ]
    },
    {
      "cell_type": "markdown",
      "source": [
        "1.8. Считайте число n. Создайте единичную матрицу размера n, сохраните результат в\n",
        "переменную Z."
      ],
      "metadata": {
        "id": "6omlPxkK5IJx"
      }
    },
    {
      "cell_type": "code",
      "source": [
        "import numpy as np\n",
        "\n",
        "n = int(input(\"Введите количество единиц в массиве: \"))\n",
        "Z = np.eye(n)\n",
        "\n",
        "print(Z)\n",
        "\n",
        "import timeit\n",
        "timeit.timeit('\"-\".join(str(n) for n in range(100))', number=10000)"
      ],
      "metadata": {
        "colab": {
          "base_uri": "https://localhost:8080/"
        },
        "id": "2wGixXMT42t9",
        "outputId": "da4580b8-5a1c-46dc-ed6e-8c2f7716e29c"
      },
      "execution_count": 21,
      "outputs": [
        {
          "output_type": "stream",
          "name": "stdout",
          "text": [
            "Введите количество единиц в массиве: 3\n",
            "[[1. 0. 0.]\n",
            " [0. 1. 0.]\n",
            " [0. 0. 1.]]\n"
          ]
        },
        {
          "output_type": "execute_result",
          "data": {
            "text/plain": [
              "0.24171128200009662"
            ]
          },
          "metadata": {},
          "execution_count": 21
        }
      ]
    },
    {
      "cell_type": "code",
      "source": [
        "import numpy as np\n",
        "\n",
        "n = int(input(\"Введите количество чисел в массиве: \"))\n",
        "Z = np.identity(n)\n",
        "\n",
        "\n",
        "print(Z)\n",
        "\n",
        "import timeit\n",
        "timeit.timeit('\"-\".join(str(n) for n in range(100))', number=10000)"
      ],
      "metadata": {
        "colab": {
          "base_uri": "https://localhost:8080/"
        },
        "id": "--KFhKhmRGks",
        "outputId": "685ee7f2-efb1-442e-e7b5-ab011fc9863b"
      },
      "execution_count": 22,
      "outputs": [
        {
          "output_type": "stream",
          "name": "stdout",
          "text": [
            "Введите количество чисел в массиве: 3\n",
            "[[1. 0. 0.]\n",
            " [0. 1. 0.]\n",
            " [0. 0. 1.]]\n"
          ]
        },
        {
          "output_type": "execute_result",
          "data": {
            "text/plain": [
              "0.2555316989999028"
            ]
          },
          "metadata": {},
          "execution_count": 22
        }
      ]
    },
    {
      "cell_type": "markdown",
      "source": [
        "1.9 Считайте 3 числа: n, m, l.. Зафиксируйте значение генератора случайных чисел Numpy\n",
        "с помощью numpy.random.seed(42) . Создайте матрицу n*m*l из случайных чисел (от 0 до 1) и\n",
        "сохраните результат в переменную Z."
      ],
      "metadata": {
        "id": "1mlESBZ76vki"
      }
    },
    {
      "cell_type": "code",
      "source": [
        "import numpy as np\n",
        "\n",
        "n = int(input(\"Введите количество чисел в массиве: \"))\n",
        "m = int(input(\"Введите количество строк: \"))\n",
        "l = int(input(\"Введите количество столбцов: \"))\n",
        "np.random.seed(42)\n",
        "Z = np.random.random(n)\n",
        "Z = Z.reshape(m, l)\n",
        "\n",
        "print(Z)\n",
        "\n",
        "import timeit\n",
        "timeit.timeit('\"-\".join(str(n) for n in range(100))', number=10000)"
      ],
      "metadata": {
        "colab": {
          "base_uri": "https://localhost:8080/"
        },
        "id": "Pb9k9zW57IlJ",
        "outputId": "250615ef-5465-4f07-8276-84bf550010e5"
      },
      "execution_count": 29,
      "outputs": [
        {
          "output_type": "stream",
          "name": "stdout",
          "text": [
            "Введите количество чисел в массиве: 4\n",
            "Введите количество строк: 2\n",
            "Введите количество столбцов: 2\n",
            "[[0.37454012 0.95071431]\n",
            " [0.73199394 0.59865848]]\n"
          ]
        },
        {
          "output_type": "execute_result",
          "data": {
            "text/plain": [
              "0.2391204180000841"
            ]
          },
          "metadata": {},
          "execution_count": 29
        }
      ]
    },
    {
      "cell_type": "code",
      "source": [
        "import numpy as np\n",
        "\n",
        "n = int(input(\"Введите количество чисел в массиве: \"))\n",
        "m = int(input(\"Введите количество строк: \"))\n",
        "l = int(input(\"Введите количество столбцов: \"))\n",
        "np.random.seed(42)\n",
        "X =  np.random.rand(m,l)\n",
        "print(X)\n",
        "\n",
        "import timeit\n",
        "timeit.timeit('\"-\".join(str(n) for n in range(100))', number=10000)"
      ],
      "metadata": {
        "colab": {
          "base_uri": "https://localhost:8080/"
        },
        "id": "xTqX8_UWRso3",
        "outputId": "98bdb776-d67b-4610-fd20-39cc1c199e64"
      },
      "execution_count": 27,
      "outputs": [
        {
          "output_type": "stream",
          "name": "stdout",
          "text": [
            "Введите количество чисел в массиве: 2\n",
            "Введите количество строк: 2\n",
            "Введите количество столбцов: 2\n",
            "[[0.37454012 0.95071431]\n",
            " [0.73199394 0.59865848]]\n"
          ]
        },
        {
          "output_type": "execute_result",
          "data": {
            "text/plain": [
              "0.23495902500008015"
            ]
          },
          "metadata": {},
          "execution_count": 27
        }
      ]
    },
    {
      "cell_type": "markdown",
      "source": [
        "1.10. Считайте 2 числа: n, m. Зафиксируйте значение генератора случайных чисел Numpy с\n",
        "помощью numpy.random.seed(42). Создайте матрицу n*m из случайных чисел (от 0 до 1).\n",
        "5\n",
        "Выведите на печать значение минимального и максимального чисел в получившейся\n",
        "матрице (каждое с новой строки)."
      ],
      "metadata": {
        "id": "7H9PXvV98eSQ"
      }
    },
    {
      "cell_type": "code",
      "source": [
        "import numpy as np\n",
        "\n",
        "n = int(input(\"Введите: \"))\n",
        "m = int(input(\"Введите: \"))\n",
        "np.random.seed(42)\n",
        "\n",
        "\n",
        "Z = np.random.random((n, m))\n",
        "Zmin, Zmax = Z.min(), Z.max()\n",
        "\n",
        "print(Zmin) \n",
        "print(Zmax)\n",
        "\n",
        "\n",
        "import timeit\n",
        "timeit.timeit('\"-\".join(str(n) for n in range(100))', number=10000)"
      ],
      "metadata": {
        "colab": {
          "base_uri": "https://localhost:8080/"
        },
        "id": "jPcJ_v6R7Pq1",
        "outputId": "bc179fe8-a970-4236-8711-86198fe16bc2"
      },
      "execution_count": 30,
      "outputs": [
        {
          "output_type": "stream",
          "name": "stdout",
          "text": [
            "Введите: 10\n",
            "Введите: 10\n",
            "0.005522117123602399\n",
            "0.9868869366005173\n"
          ]
        },
        {
          "output_type": "execute_result",
          "data": {
            "text/plain": [
              "0.24899841300020853"
            ]
          },
          "metadata": {},
          "execution_count": 30
        }
      ]
    },
    {
      "cell_type": "markdown",
      "source": [
        "1.11. Считайте 2 числа: n, m. Зафиксируйте значение генератора случайных чисел Numpy с\n",
        "помощью numpy.random.seed(42).Создайте матрицу n*m из случайных чисел (от 0 до 1).\n",
        "Выведите на печать значение среднего для всей матрицы.\n"
      ],
      "metadata": {
        "id": "9lpSR81IATTt"
      }
    },
    {
      "cell_type": "code",
      "source": [
        "import numpy as np\n",
        "\n",
        "n = int(input(\"Введите: \"))\n",
        "m = int(input(\"Введите: \"))\n",
        "Z = np.random.random((n,m))\n",
        "C = Z.mean()\n",
        "print(C)\n",
        "\n",
        "import timeit\n",
        "timeit.timeit('\"-\".join(str(n) for n in range(100))', number=10000)"
      ],
      "metadata": {
        "colab": {
          "base_uri": "https://localhost:8080/"
        },
        "id": "zSNqaWWT9URJ",
        "outputId": "3f31295a-298e-4d5d-f7df-586fb0275a99"
      },
      "execution_count": 32,
      "outputs": [
        {
          "output_type": "stream",
          "name": "stdout",
          "text": [
            "Введите: 30\n",
            "Введите: 30\n",
            "0.509364010211792\n"
          ]
        },
        {
          "output_type": "execute_result",
          "data": {
            "text/plain": [
              "0.24526792500000738"
            ]
          },
          "metadata": {},
          "execution_count": 32
        }
      ]
    },
    {
      "cell_type": "markdown",
      "source": [
        "1.12. Переменные A и B содержат по numpy вектору. Найдите их скалярное произведение и\n",
        "сохраните в переменную Z."
      ],
      "metadata": {
        "id": "TzaqqBp1SZiE"
      }
    },
    {
      "cell_type": "code",
      "source": [
        "A = np.array([1.5,2.5,3.5])\n",
        "B = np.array([4,5,6])\n",
        "Z = np.dot(A,B)\n",
        "print(Z)"
      ],
      "metadata": {
        "colab": {
          "base_uri": "https://localhost:8080/"
        },
        "id": "ZHC1NI5DSVDZ",
        "outputId": "31b35678-0bd1-4d10-e4b1-048f6c732b12"
      },
      "execution_count": 33,
      "outputs": [
        {
          "output_type": "stream",
          "name": "stdout",
          "text": [
            "39.5\n"
          ]
        }
      ]
    },
    {
      "cell_type": "code",
      "source": [
        "A = np.array([1,3,5,7,9])\n",
        "B = np.array([-2,4,-6,8,-10])\n",
        "Z = np.dot(A,B)\n",
        "print(Z)"
      ],
      "metadata": {
        "colab": {
          "base_uri": "https://localhost:8080/"
        },
        "id": "Bk0mqWPUSeJ9",
        "outputId": "ccd07feb-297d-454f-fe03-6b6c8b6bd896"
      },
      "execution_count": 35,
      "outputs": [
        {
          "output_type": "stream",
          "name": "stdout",
          "text": [
            "-54\n"
          ]
        }
      ]
    },
    {
      "cell_type": "markdown",
      "source": [
        "1.13. Даны 2 матрицы: A и B. Найдите произведение матриц и сохраните его в переменную Z.\n",
        "Если найти произведение матриц невозможно, то запишите в Z строку:\n"
      ],
      "metadata": {
        "id": "8d9PLJGaSy64"
      }
    },
    {
      "cell_type": "code",
      "source": [
        "n1 = int(input(\"Введите количество чисел в массиве 1: \"))\n",
        "m1 = int(input(\"Введите количество строк: \"))\n",
        "k1 = int(input(\"Введите количество столбцов: \"))\n",
        "A = np.arange(n1).reshape(m1, k1)\n",
        "\n",
        "q2 = int(input(\"Введите первое число вектора в массиве 2: \"))\n",
        "w2 = int(input(\"Введите последнее число вектора: \"))\n",
        "m2 = int(input(\"Введите количество строк: \")) \n",
        "k2 = int(input(\"Введите количество столбцов: \"))\n",
        "B = np.array(range(q2, w2, 1))\n",
        "for i in range(m2):\n",
        "    print(B)\n",
        "\n",
        "\n",
        "if m1 == k2:\n",
        "  C = A*B\n",
        "else:\n",
        "  Z = \"Упс! Что-то пошло не так...\"\n",
        "\n",
        "import timeit\n",
        "timeit.timeit('\"-\".join(str(n) for n in range(100))', number=10000)"
      ],
      "metadata": {
        "colab": {
          "base_uri": "https://localhost:8080/"
        },
        "id": "uFt7syTASg74",
        "outputId": "eb154829-5587-4521-a4ed-73e76247c614"
      },
      "execution_count": 46,
      "outputs": [
        {
          "output_type": "stream",
          "name": "stdout",
          "text": [
            "Введите количество чисел в массиве 1: 6\n",
            "Введите количество строк: 2\n",
            "Введите количество столбцов: 3\n",
            "Введите первое число вектора в массиве 2: 11\n",
            "Введите последнее число вектора: 14\n",
            "Введите количество строк: 3\n",
            "Введите количество столбцов: 1\n",
            "[11 12 13]\n",
            "[11 12 13]\n",
            "[11 12 13]\n"
          ]
        },
        {
          "output_type": "execute_result",
          "data": {
            "text/plain": [
              "0.24518236099993374"
            ]
          },
          "metadata": {},
          "execution_count": 46
        }
      ]
    },
    {
      "cell_type": "markdown",
      "source": [
        "1.14. Поменяйте знак всех чисел из интервала (3; 9), хранящихся в векторе Z."
      ],
      "metadata": {
        "id": "0mWW2UrhUADR"
      }
    },
    {
      "cell_type": "code",
      "source": [
        "Z = np.arange(11)\n",
        "Z[(3 < Z) & (Z < 9)] *= -1\n",
        "print(Z)\n",
        "import timeit\n",
        "timeit.timeit('\"-\".join(str(n) for n in range(100))', number=10000)"
      ],
      "metadata": {
        "colab": {
          "base_uri": "https://localhost:8080/"
        },
        "id": "uOvRhdAlTflN",
        "outputId": "fdf36823-fa30-48fb-ea6d-086c925cbb7c"
      },
      "execution_count": 41,
      "outputs": [
        {
          "output_type": "stream",
          "name": "stdout",
          "text": [
            "[ 0  1  2  3 -4 -5 -6 -7 -8  9 10]\n"
          ]
        },
        {
          "output_type": "execute_result",
          "data": {
            "text/plain": [
              "0.4978923560001931"
            ]
          },
          "metadata": {},
          "execution_count": 41
        }
      ]
    },
    {
      "cell_type": "markdown",
      "source": [
        "1.15.Подсчитать произведение ненулевых элементов на диагонали прямоугольной\n",
        "матрицы. Для X = np.array([[1, 0, 1], [2, 0, 2], [3, 0, 3], [4, 4, 4]]) ответ 3."
      ],
      "metadata": {
        "id": "NOUSpM0sU1uM"
      }
    },
    {
      "cell_type": "code",
      "source": [
        "X = np.array([[1, 0, 1], \n",
        "              [2, 0, 2], \n",
        "              [3, 0, 3], \n",
        "              [4, 4, 4]]\n",
        "             )\n",
        "Z = np.prod(np.diag(X)[np.diag(X)!=0])\n",
        "print(Z)\n",
        "\n",
        "import timeit\n",
        "timeit.timeit('\"-\".join(str(n) for n in range(100))', number=10000)"
      ],
      "metadata": {
        "colab": {
          "base_uri": "https://localhost:8080/"
        },
        "id": "4Vf33Xv2UDYH",
        "outputId": "f3f41163-6e52-47c9-eea2-91b01feefd07"
      },
      "execution_count": 47,
      "outputs": [
        {
          "output_type": "stream",
          "name": "stdout",
          "text": [
            "3\n"
          ]
        },
        {
          "output_type": "execute_result",
          "data": {
            "text/plain": [
              "0.5027270200002931"
            ]
          },
          "metadata": {},
          "execution_count": 47
        }
      ]
    },
    {
      "cell_type": "code",
      "source": [
        ""
      ],
      "metadata": {
        "id": "GNbn1fyLU4jU"
      },
      "execution_count": null,
      "outputs": []
    }
  ]
}