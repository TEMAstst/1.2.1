{
  "nbformat": 4,
  "nbformat_minor": 0,
  "metadata": {
    "colab": {
      "name": "Лаба7.ipynb",
      "provenance": [],
      "authorship_tag": "ABX9TyPDsh270rRKsYty8MV1w57a"
    },
    "kernelspec": {
      "name": "python3",
      "display_name": "Python 3"
    },
    "language_info": {
      "name": "python"
    }
  },
  "cells": [
    {
      "cell_type": "markdown",
      "source": [
        "Для задач 7.2.1-7.2.5 приведено условие задачи и ее решение (ошибочное).\n",
        "\n",
        "Для каждой задачи:\n",
        "\n",
        "используя визуальный просмотр кода, простое журналирование, проверку PEP8 или отладчик в IDE:\n",
        "\n",
        "разберитесь в алгоритме решения;\n",
        "\n",
        "найдите номера строк, в которых есть ошибки, и укажите их в строке документации;\n",
        "\n",
        "исправьте ошибки, минимально изменив код (как правило, заменив строчку на строчку); ошибки исправляются по ходу программы, сверху вниз.\n",
        "\n",
        "Пример.\n",
        "\n",
        "Исходная программа:"
      ],
      "metadata": {
        "id": "SPkEMiQvJWNG"
      }
    },
    {
      "cell_type": "code",
      "execution_count": 1,
      "metadata": {
        "colab": {
          "base_uri": "https://localhost:8080/"
        },
        "id": "I3BegQW1HZxz",
        "outputId": "3495aac5-e7bd-4907-ffe2-5b7df4f37895"
      },
      "outputs": [
        {
          "output_type": "execute_result",
          "data": {
            "text/plain": [
              "10"
            ]
          },
          "metadata": {},
          "execution_count": 1
        }
      ],
      "source": [
        "# Программирование на языке высокого уровня (Python).\n",
        "# https://www.yuripetrov.ru/edu/python\n",
        "# Задание task_07_02_01.\n",
        "#\n",
        "# Выполнил: Цай А.С.\n",
        "# Группа: АДЭУ-211\n",
        "\n",
        "\n",
        "\"\"\"\n",
        "Ошибки (номера строк через пробел): 19, 21, 23\n",
        "\"\"\"\n",
        "\n",
        "\n",
        "def sum_of_digits(n):\n",
        "    \"\"\"Вернуть сумму цифр меньших 5 для положительного целого числа `n`.\n",
        "    Если таких цифр нет, вернуть 0.\"\"\"\n",
        "    c = 0\n",
        "    while n > 0:\n",
        "        digit = n % 10 # Было: digit = n // 10\n",
        "        if digit < 5:       \n",
        "            c += digit # Было: c = с + 1\n",
        "        n //= 10\n",
        "    return c # Было: return digit\n",
        "\n",
        "n = 1234567\n",
        "sum_of_digits(n)"
      ]
    },
    {
      "cell_type": "code",
      "source": [
        "# Программирование на языке высокого уровня (Python).\n",
        "# https://www.yuripetrov.ru/edu/python\n",
        "# Задание task_07_02_02.\n",
        "#\n",
        "# Выполнил: Цай А.С.\n",
        "# Группа: АДЭУ-211\n",
        "\n",
        "\n",
        "\"\"\"\n",
        "Ошибки (номера строк через пробел): 18, 19, 22, 24, 25\n",
        "\"\"\"\n",
        "\n",
        "\n",
        "def primes(a, b):\n",
        "    \"\"\"Вернуть список простых чисел на отрезке от 'a' до 'b'.\"\"\"\n",
        "    res = []\n",
        "    c = 0\n",
        "    for i in range(a, b + 1): # Было: for i in range(a, b):\n",
        "        for j in range(i + 1): # Было: for j in range(i):\n",
        "            if i % (j + 1) == 0:\n",
        "                c += 1\n",
        "        if c == 2: # Было: два лишних таба\n",
        "            res.append(i) \n",
        "        else: # Эта строчка была пропущена\n",
        "            c = 0 # Эта строчка была пропущена\n",
        "\n",
        "    return res\n",
        "\n",
        "primes(1, 11)"
      ],
      "metadata": {
        "colab": {
          "base_uri": "https://localhost:8080/"
        },
        "id": "rRHwHb9qKexS",
        "outputId": "5f256941-23ac-46e9-ec30-8a7f4ed5fa5e"
      },
      "execution_count": 2,
      "outputs": [
        {
          "output_type": "execute_result",
          "data": {
            "text/plain": [
              "[2, 5, 7, 11]"
            ]
          },
          "metadata": {},
          "execution_count": 2
        }
      ]
    },
    {
      "cell_type": "code",
      "source": [
        "# Программирование на языке высокого уровня (Python).\n",
        "# https://www.yuripetrov.ru/edu/python\n",
        "# Задание task_07_02_03.\n",
        "#\n",
        "# Выполнил: Цай А.С.\n",
        "# Группа: АДЭУ-211\n",
        "\n",
        "\n",
        "\"\"\"\n",
        "Ошибки (номера строк через пробел): 31, 32\n",
        "\"\"\"\n",
        "\n",
        "\n",
        "def first_vacant_row(seats):\n",
        "    \"\"\"Вернуть первый ряд, в котором имеется больше всего\n",
        "    свободных мест и их количество.\n",
        "\n",
        "    Возвращаемая нумерация рядов с 1. Если свободных мест нет, вернуть 0, 0.\n",
        "\n",
        "    Параметры:\n",
        "        - seats (list of list): информация о проданных билетах\n",
        "                                (1 - продано, 0 - нет).\n",
        "\n",
        "    Результат:\n",
        "        - tuple (ряд, количество мест).\n",
        "    \"\"\"\n",
        "    max_count = 0\n",
        "    max_row = 0\n",
        "    for row_index, row in enumerate(seats):\n",
        "        available_seats_count = row.count(0)  # 0 - пусто\n",
        "        if available_seats_count > max_count: # Было: if available_seats_count >= max_count:\n",
        "            max_row = row_index + 1 # Было: max_row = row_index\n",
        "            max_count = available_seats_count\n",
        "\n",
        "    return max_row, max_count\n",
        "\n",
        "import random\n",
        "#\n",
        "random.seed(50)\n",
        "#\n",
        "ROWS_MAX = 10\n",
        "SEATS_MAX = 5\n",
        "#\n",
        "seats = [[random.randint(0, 1) for seat in range(SEATS_MAX)]\n",
        "                                for row in range(ROWS_MAX)]\n",
        "#\n",
        "for seat in seats:\n",
        "     print(seat)\n",
        "#\n",
        "print(first_vacant_row(seats))"
      ],
      "metadata": {
        "colab": {
          "base_uri": "https://localhost:8080/"
        },
        "id": "5dVIl7DmLGLG",
        "outputId": "ff6bc6bb-a78a-4fe7-db9b-ea964b95e6cc"
      },
      "execution_count": 3,
      "outputs": [
        {
          "output_type": "stream",
          "name": "stdout",
          "text": [
            "[1, 1, 1, 0, 1]\n",
            "[1, 0, 1, 0, 0]\n",
            "[0, 1, 0, 1, 1]\n",
            "[0, 0, 0, 1, 1]\n",
            "[0, 0, 1, 1, 0]\n",
            "[0, 1, 1, 1, 0]\n",
            "[0, 1, 1, 1, 0]\n",
            "[1, 0, 0, 1, 0]\n",
            "[1, 1, 0, 1, 1]\n",
            "[0, 1, 0, 0, 1]\n",
            "(2, 3)\n"
          ]
        }
      ]
    },
    {
      "cell_type": "code",
      "source": [
        "# Программирование на языке высокого уровня (Python).\n",
        "# https://www.yuripetrov.ru/edu/python\n",
        "# Задание task_07_02_04.\n",
        "#\n",
        "# Выполнил: Цай А.С.\n",
        "# Группа: АДЭУ-211\n",
        "\n",
        "\n",
        "\"\"\"\n",
        "Ошибки (номера строк через пробел): 16, 17, 18, 20\n",
        "\"\"\"\n",
        "\n",
        "\n",
        "def min_pair(nums):\n",
        "    \"\"\"Вернуть минимальную сумму соседних 2-х чисел в списке 'nums'.\"\"\"\n",
        "    ain = nums[0] + nums[1] # Было: min = nums[0] * nums[1]\n",
        "    for i in range(2, len(nums) - 1): # Было: for i in range(2, len(nums)):\n",
        "        ain = min(nums[i] + nums[i + 1], ain) # Было: min = min(nums[i] + nums[i + 1], min)\n",
        "\n",
        "    return ain # Было: return min \n",
        "\n",
        "import random\n",
        "#\n",
        "random.seed(50)\n",
        "#\n",
        "N_MAX = 10\n",
        "RANGE_MIN = 1\n",
        "RANGE_MAX = 100\n",
        "nums = random.sample(range(RANGE_MIN, RANGE_MAX), N_MAX)\n",
        "#\n",
        "print(nums)\n",
        "#\n",
        "print(min_pair(nums))"
      ],
      "metadata": {
        "colab": {
          "base_uri": "https://localhost:8080/"
        },
        "id": "3lAxTxxoLKWb",
        "outputId": "ebcb3fa0-0d0f-44cf-98ba-54f38cbb96b2"
      },
      "execution_count": 4,
      "outputs": [
        {
          "output_type": "stream",
          "name": "stdout",
          "text": [
            "[64, 35, 47, 82, 32, 89, 61, 99, 43, 11]\n",
            "54\n"
          ]
        }
      ]
    },
    {
      "cell_type": "code",
      "source": [
        "# Программирование на языке высокого уровня (Python).\n",
        "# https://www.yuripetrov.ru/edu/python\n",
        "# Задание task_07_02_06.\n",
        "#\n",
        "# Выполнил: Цай А.С.\n",
        "# Группа: АДЭУ-211\n",
        "\n",
        "\n",
        "\"\"\"\n",
        "Ошибки (номера строк через пробел): 19, 21, 22\n",
        "\"\"\"\n",
        "\n",
        "\n",
        "def unemployment_rate(unemployed, employed):\n",
        "    \"\"\"Вернуть уровень безработицы (УБ) в долях 1.\n",
        "\n",
        "       Расчет по формуле: УБ = Безработные / (Занятые + Безработные).\n",
        "    \"\"\"\n",
        "    if unemployed >= 0 and (unemployed + employed) != 0: # Этой строчки не было\n",
        "        return unemployed / (unemployed + employed)\n",
        "    else: # Этой строчки не было\n",
        "        raise ValueError(\"Введены некорректные значения\") # Этой строчки не было\n",
        "\n",
        "try:\n",
        "    unemployed = int(input(\"Введите кол-во безработных (чел.): \"))\n",
        "    employed = int(input(\"Введите кол-во занятых (чел.): \"))\n",
        "    rate = unemployment_rate(unemployed, employed)\n",
        "    print(\"Уровень безработицы = {:.1%}\".format(rate))\n",
        "except ValueError as err:\n",
        "    print(\"Ошибка:\", err)"
      ],
      "metadata": {
        "colab": {
          "base_uri": "https://localhost:8080/"
        },
        "id": "WhJg94teLrn8",
        "outputId": "3973fe43-e047-4bf8-c966-be85c6553839"
      },
      "execution_count": 5,
      "outputs": [
        {
          "output_type": "stream",
          "name": "stdout",
          "text": [
            "Введите кол-во безработных (чел.): -1\n",
            "Введите кол-во занятых (чел.): 1\n",
            "Ошибка: Введены некорректные значения\n"
          ]
        }
      ]
    },
    {
      "cell_type": "code",
      "source": [
        "# Программирование на языке высокого уровня (Python).\n",
        "# https://www.yuripetrov.ru/edu/python\n",
        "# Задание task_07_02_07.\n",
        "#\n",
        "# Выполнил: Цай А.С.\n",
        "# Группа: АДЭУ-211\n",
        "\n",
        "\n",
        "\"\"\"\n",
        "Ошибки (номера строк через пробел): 16, 21, 22\n",
        "\"\"\"\n",
        "\n",
        "\n",
        "def power(x, y=2):\n",
        "    \"\"\"Вернуть x^y.\"\"\"\n",
        "    if x != 0: # Этой строчки не было\n",
        "        if y == 0:\n",
        "            return 1\n",
        "        else:\n",
        "            return x * power(x, y - 1)\n",
        "    else: # Этой строчки не было\n",
        "        raise ValueError(\"Введите x != 0\") # Этой строчки не было\n",
        "\n",
        "try:\n",
        "  x = int(input(\"x=\"))\n",
        "  y = int(input(\"y=\"))\n",
        "  print(power(x, y))\n",
        "except ValueError as err:\n",
        "    print(\"Ошибка:\", err)"
      ],
      "metadata": {
        "colab": {
          "base_uri": "https://localhost:8080/"
        },
        "id": "giyT0PoDNdhx",
        "outputId": "6f65172d-8ca7-4695-b5b7-1a1d96f15440"
      },
      "execution_count": 6,
      "outputs": [
        {
          "output_type": "stream",
          "name": "stdout",
          "text": [
            "x=0\n",
            "y=3123123\n",
            "Ошибка: Введите x != 0\n"
          ]
        }
      ]
    }
  ]
}