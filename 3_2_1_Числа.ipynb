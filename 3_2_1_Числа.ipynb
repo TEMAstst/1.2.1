{
  "nbformat": 4,
  "nbformat_minor": 0,
  "metadata": {
    "colab": {
      "name": "3.2.1 Числа.ipynb",
      "provenance": [],
      "authorship_tag": "ABX9TyPnY88NpJI+oObud7lt/sMn",
      "include_colab_link": true
    },
    "kernelspec": {
      "name": "python3",
      "display_name": "Python 3"
    },
    "language_info": {
      "name": "python"
    }
  },
  "cells": [
    {
      "cell_type": "markdown",
      "metadata": {
        "id": "view-in-github",
        "colab_type": "text"
      },
      "source": [
        "<a href=\"https://colab.research.google.com/github/TEMAstst/1.2.1/blob/main/3_2_1_%D0%A7%D0%B8%D1%81%D0%BB%D0%B0.ipynb\" target=\"_parent\"><img src=\"https://colab.research.google.com/assets/colab-badge.svg\" alt=\"Open In Colab\"/></a>"
      ]
    },
    {
      "cell_type": "markdown",
      "metadata": {
        "id": "TCSka4u_QIrE"
      },
      "source": [
        "Составьте программу, которая запрашивает у пользователя 2 целых числа и выполняет операции:\n",
        "\n",
        "арифметические: +, -, * , / , // , %, **;\n",
        "\n",
        "сравнение: <, <=, >, >=, !=, ==,\n",
        "\n",
        "выводя на экран результат каждого действия. В случае получение вещественного результата, округлите его до 2-х знаков после запятой (используя функцию round())."
      ]
    },
    {
      "cell_type": "code",
      "metadata": {
        "colab": {
          "base_uri": "https://localhost:8080/"
        },
        "id": "tXPtJAoPYnHO",
        "outputId": "7f23b9ac-27df-43e3-aa27-0d98c8b0099a"
      },
      "source": [
        "# Программирование на языке высокого уровня (Python).\n",
        "# https://www.yuripetrov.ru/edu/python\n",
        "# Задание task_03_02_01.\n",
        "#\n",
        "# Выполнил: Цай А.С.\n",
        "# Группа: АДЭУ-211\n",
        "# E-mail: artem.tsay@mail.ru\n",
        "\n",
        "\n",
        "a = int(input(\"a=\"))\n",
        "b = int(input(\"b=\"))\n",
        "\n",
        "print(a + b)\n",
        "print(a - b)\n",
        "print(a * b)\n",
        "print(round(a / b))\n",
        "print(a // b)\n",
        "print(a % b)\n",
        "print(a < b)\n",
        "# --------------\n",
        "# Пример вывода:\n",
        "#\n",
        "# a=2\n",
        "# b=3\n",
        "# 5\n",
        "# -1\n",
        "# 6\n",
        "# 0.67\n",
        "# 0\n",
        "# 2\n",
        "# 8\n",
        "# True\n",
        "# True\n",
        "# False\n",
        "# False\n",
        "# True\n",
        "# False\n"
      ],
      "execution_count": null,
      "outputs": [
        {
          "output_type": "stream",
          "name": "stdout",
          "text": [
            "a=2\n",
            "b=3\n",
            "5\n",
            "-1\n",
            "6\n",
            "1\n",
            "0\n",
            "2\n",
            "True\n"
          ]
        }
      ]
    },
    {
      "cell_type": "markdown",
      "metadata": {
        "id": "2lJLAhmbc6lb"
      },
      "source": [
        "Вычислите значение следующего выражения (аргументы - целые числа и вводятся с клавиатуры):\n",
        "\n",
        "![Снимок.GIF](data:image/gif;base64,R0lGODlhtgBzAPcAAAAAAAAAMwAAZgAAmQAAzAAA/wArAAArMwArZgArmQArzAAr/wBVAABVMwBVZgBVmQBVzABV/wCAAACAMwCAZgCAmQCAzACA/wCqAACqMwCqZgCqmQCqzACq/wDVAADVMwDVZgDVmQDVzADV/wD/AAD/MwD/ZgD/mQD/zAD//zMAADMAMzMAZjMAmTMAzDMA/zMrADMrMzMrZjMrmTMrzDMr/zNVADNVMzNVZjNVmTNVzDNV/zOAADOAMzOAZjOAmTOAzDOA/zOqADOqMzOqZjOqmTOqzDOq/zPVADPVMzPVZjPVmTPVzDPV/zP/ADP/MzP/ZjP/mTP/zDP//2YAAGYAM2YAZmYAmWYAzGYA/2YrAGYrM2YrZmYrmWYrzGYr/2ZVAGZVM2ZVZmZVmWZVzGZV/2aAAGaAM2aAZmaAmWaAzGaA/2aqAGaqM2aqZmaqmWaqzGaq/2bVAGbVM2bVZmbVmWbVzGbV/2b/AGb/M2b/Zmb/mWb/zGb//5kAAJkAM5kAZpkAmZkAzJkA/5krAJkrM5krZpkrmZkrzJkr/5lVAJlVM5lVZplVmZlVzJlV/5mAAJmAM5mAZpmAmZmAzJmA/5mqAJmqM5mqZpmqmZmqzJmq/5nVAJnVM5nVZpnVmZnVzJnV/5n/AJn/M5n/Zpn/mZn/zJn//8wAAMwAM8wAZswAmcwAzMwA/8wrAMwrM8wrZswrmcwrzMwr/8xVAMxVM8xVZsxVmcxVzMxV/8yAAMyAM8yAZsyAmcyAzMyA/8yqAMyqM8yqZsyqmcyqzMyq/8zVAMzVM8zVZszVmczVzMzV/8z/AMz/M8z/Zsz/mcz/zMz///8AAP8AM/8AZv8Amf8AzP8A//8rAP8rM/8rZv8rmf8rzP8r//9VAP9VM/9VZv9Vmf9VzP9V//+AAP+AM/+AZv+Amf+AzP+A//+qAP+qM/+qZv+qmf+qzP+q///VAP/VM//VZv/Vmf/VzP/V////AP//M///Zv//mf//zP///wAAAAAAAAAAAAAAACH5BAEAAPwALAAAAAC2AHMAAAj/APcJHEiwoMGDCBMqXMiwocOHECNKnEixosWLGDNq3Mixo8ePIEOKHEmypMmTKFOqVKhMYMt9L2O6nAmTpsyaOG/qtMkzZ8+dPoMCHfqzqFCjRIPWg7ayqdOnUKNKnUq1qlWM9fZByypw6T6uOLlu7ar1a1emZnGaHXs2bViBbLMy5eo17cu1YL2CfSmWblm6aLnelZt37kC+cP0a/hqYJl7HVyNLrogWbsHKlgliLqv5sufOoAduHv1ZdOnMpkOjXs05tWvWpFVDBDuQNtmCtt3WNpi7N+/fuIET9B28+HDhu40nP66c+fLmum87fy6devTrxKdX344dOffs1sG3/2WtPPbr1rBPo19vPr3s9uzVw58vXz1315snP7yrH2P+g7mlFddf4wm2G1uMuYWYVoqlVZeBZBmmDyOhHFiYgrcNuNiDjhFW22JvMRihg411p1CA/Sk0jxhh4NBiiyy6eIMYYsxoI4sx3OCiGC72WOONNQaZY5AzClnkjUXmEE1G//2X4kPzAPGkRZihuJZpcl0p4IHDbcafiFimJhaXH1YnDBxTCqSPmJbtpd16b57onYlvinfdPvosuc8um6R5m5UJVQboQlm+V5+hiJ5X24SnJDQoQo92VGKVs2WWl5/LEJTPGJn+qec+n3bqll94Jnfpn2qKOphjn0LqqpMHVf+WH22kOmjqrajmaut9+7STA0FrllpqPcGWOowm0CgzyZJ5DsQsqGs+y+y0CuVX7KBowfqZlYWeR1+i7pFX7D7sGFFQqwmxc0MMYoCikTBKOsRVNMF2C12kd4YZ7r7xybatQHruEoerCQkjJYDV0XrQLjE07HAMfTb0aVZ5BjgmcLNy9qidHM+J4oQVauysQJ1Gw9WZxHwpbEG7oAmcPrXgwCKNYcTb1Zr1PJsvQtoG17PCHgfdHIIELcmVPoZMPNC44wrEjpLwdlryyHsO7KQ+YoiazwyfomtQ0wifCGvPcY4kqJoDzTOG13q2E0bNyrwNRKv6bOGyQfQM1PJw9IL/imcvek7orpytzkuxlmVHdylmsr7GOH6qNa4Q2PsIYy6waSupTyExhLKIDPQuouQ8W1yu0C5HPLTLwWgDzPTITXsNp0E/J37q7bjumuCpXvNyt0G1DKyP6NCIvuQiFbaDQ8gD5c2yy8RqN48MzOeeeNgMYUtwU1kFjjxZRmc2TwxqFEQPI2iIoYlBXQsksELes76PqEXfeapZTedHNGqUxvn4Qv+bnN+WdjQKLQ0h6hoYQ5xXuSC1aAs6ehEO4HC45tntIH07IMBWhpp6KQ2AuqKda+6XII1thjYgAtig1CY7llFPIAzEYEKCoUCCCeMGCqRcwjYIthYqR3vWmZ3Q/5wTrRg2zyDtkN9XgjW8GRQvXuyYW/YMsjcZlophNazg/OrXNKDZ54u24xmvRFip9u0jGL/Tk8nGl4NkbEFz32Mf5qTzvoUMr3NUA4sO0+LDnTnpYmQSTqQeZTL2Na1YdcyNPiQhhjF8ghE0ipjrDmilKgpnczicjdei96zoBXFxtmvStiRHoBICCGzCSIP68GTAitRqgxxMpAYHeCyEFCtTr4MfGSnzKuxdbzfFKtxAhBGHXehgH/noArqMmJA9JkdPZ1paIX14uO7NKYPT6SN5+jfFSmVPh8Qahhga1Y4fzFIin1LZQ3JTmQ/68j6exB7u2AOW/9hrZ23CkxrFqP83KUWxfqDSogyP9jU9RYqJDglmtHZDLQ5uR5Tbs84JJVcXMDUnZwVZUSieFo1d3CGIrmGmbmwTOy8WclQrC19ywAnLi+ALnxvB2UB48YYwbAJkCznpvMjiTNqotFjNklcwXUmeErJzhOhRp3hyc9J6kQ1PSdOgSBOyz33QA10qnVNmMig7fdCKWb5ZaEO4CdPinM1f+GsIMbw2D5thdB/rephc50rXuM7Vrg/DK13nSp0WyvSPDVHneK4D0bPC6qTJmQcXvPZPP83xnC3V6nJeCsZKBRWgsNzF8gyCRsfK8TZeZagAK0sgWJHQNoNsnUyDNY8wQAyYrQSpVQz62bD/oUUf9BPjS7+kP8WVslW0PUgwZHADcwUVaY3SoDajQpu8+XWWqdUXc7B11IPUq3WfVZswyJfRtXWFbo5xpnU1yJ/ljldOFrUmQuhHWUWNEbMMESaeisHGVjUWOAaj2vyC9RLcpmogosrvyrzKLFxucU0Gpt9/YjeRsQHSIIJ9GR8JOiod5uON9KMhdgsiYMquaEblE0iHO+LJPu6UgXss0UXJ2D2cPVW/zjrkIvA4kOCNCpvsMOeiGDKMLVRouy67b1kdJR354onC42rhK/lpEQqr8Jy0EdUiMgkXRiS3YEp8DlhIdznNhkzALfXiqS7bGit1DbUOOetyTtg622Cm/6mSJQiQB5LMrl3LaQcL1qfQQq1d3ECSBMnxLINFytuaF23sjYg9W5OxrwA3zo9Fl0DZEYOD1UPIPhVxlr2Ipy3gIBMsGsPgKrfp6QgjDDJwGT0WkcP3LmSqlAXUndXktSSDhX5XLRW62nEDruF5w61rbKRaG4N47eKF5LI0fNO2tlr4enzQG29uhRXPwMnOQwxBUE+PA+eIgOXCOOhUJKr3HDA7lIOK/bNAeH0wMGtTYBc+mJdbahi6vXWAI/2ivcxcG50VBGwB6iJm7/hRnJJM14EGgp4drU+Sojq58+j1kgSt2lrEIA7O+5S6XPY5ck/k0L0saoDoJ7tP+ZdX8f8USC3UXWc5CXh4DpTZjX61OdA5rdhLMreapny3oy3C1xcO8bB4I/B/K3qK2BztW8ULSzLL+QZSausmaZ3siBw7ZK2FIus43byaLWl8pgvOuKwJVNvkGjcqLg6a9XnkA06b63qa6hJv7s88W0nnDLlhxOZMaviaXCCtPRgv1N30R8sxyhKp6NcgrVxpEkSkttET6ZRkSdlQ/CHDi1ctctApijszcIz4VWu5cGWYhnbZFKmLGa24sbJ1yulWRXU04ohv3eAdn4sMww3U8Clzr50gw3iRDH4FbIZj/vEht+Vyal17v4CNzIG75IxBsVjoVJ06JESgEhd+52Lx+ncrJSADLFGc/+mCKPWdMh26+fBteK0KdE84QAMZ/q6Zkx3MuYSmekM67E6CjI9rmacnoiJpkfVZQORevNJ/0IU29yNeekJpULd8BnF5dqSAv5ZTgBcDaKIugPZYXwMWiAVZ70Qs7eN0xDJlNjMRl2VN6nUb2yUG4KcmtnF7YqZ2laNjRZN+zqMPvIADN+BdGnRrRDV1hFJ0TLF5U9Zq7pRVsAJU1gVBERMtKNIOMahNZIYWVIg57TUoJ4ddCNWCgeJqBtFaP2A8oDVALNVvCIMZ+VAIOVB6hsQbSReCixdRBYgQduaBG4R4degQ14Ya41NDyHE0dOhQg2KGehRn8RRUZ1dW4DUyqP9VdAf3HFj1JquiMVJ4OoRXEVkFY9GxOgeBSyB4bg/RiWwnHUtmfBJ4XtzBdAxRLGd1dRmiXgvXh164RJ/CQMKwPgDGEJ2CIlzneLqRZCLogUaELk5IKj6kZsgxPOsyI8tDOXrkU5kGhqhXfGhodH5jJce1h9r4iDxUEAOINwQxbedCirJljUsjBsT3NYtQIz5iIy6SBtREEdLYTFoCe9xSJ9LhigoxNZb4b2B1bRqngYx3SicyLiQnWikHUDulZdp4jr9RibnBQCEYQ/TjhPICKRpJLhfXEXulV3rlMHY1knfVMHiVknu1knm1kiOpV/rVkaloRRFZewIRCZsFMM7/1U1mAXKedRLR9xuzJifDY3MHsWo9IkESRI/o+JMdgZGydR1eExgWSDrH1JRO2R96UhmnJ0xDuUtBBXYD5GQQEVpJl5U7ty6CWIHOokXpd2+pZ2o0BoljiXI2OTxownyleIt7GZOD5jUM43E+KYaQsmdpQTl4uXmDeT2bM1fItkU0cXJnx0BvlTM40zeW6Wg4Uy/XFVBPBkMEsQthIIirdSWXQox4eG5cKZEAtV0+MJo89W/Z4W+0sSIyMzNUVowmsVyf4mchA5c2iUEkdURiqDBx13ViIHTWZ2gpdY5tJWc4+HEYsZgDQWnCIzEIJ5DftU41+YpPdlmmiFJ3Ng93/yN1Qagdp/kVxNYnoNgVxCYDoOZaajAhrqU5WSEMNbIFPyAq9BAJxDUGmDCXcrYFBmlVi9Bz2AUoRLhsp2ePffk1jMCL29lS9IJR0cI0YQCgY5AMKag3N2BsN/BC43Mw7JCTPZgpqxYvzriW+8BCu/BsBfpLoBkr5ylHzASc30Eo57YL0fmBD0EPnZIMQMgyH1k5MXA5WdeiW8A68WakkiSLJLMm8Lak7pOT2GhVvYidtcWKaVUcl3UXy+BMdcOiZWQQwyAqlxUMNEZpquZ1N3Q3m5MDxSMDV+ZnHQgwbIonHTehntlOV5o7FYN8e/iIheSnEIEu84aLSzQMSEIkNf/icWqyLNMRmCKGAwpEOmSwJzJQQ0VpCoVgpXZqXWZYN8oZEUtiRJL4p3HJkWoIM4/ZZJHaKSLlZwqUp3jidRu3NIUAOovABczDMB/1NW74dUdKSfKkS61DgGN5Z0qmfitTUcgIQ153EXrGQoBnpXqDA3tXpFbZopWWNmJgTmoarHtCeAQGeKVTpXc6lE0Da/iWfgnFcPwWWb/nrTbXLPhSK/T5oZKwe8K1pgWqD9M6XF/2QgHYorpHpljzK/QQBqSnX4ZJoRIhVljadHXIVW3GpRmFc3M0TwP3Pm6DAxJqVdGwIjkiA28gCboXA2MQCa41I8mje1vAlDAkCZ42BpL/EANhIEW3EbL16RwWw0EmZn1qGLRBBHDZiSe1pBtb2bHJOhnFAm2QtUfZJ7RUc64zOhHGCWPtBUtV5WrUWREM9H+h06Fh81yX1LXQ0oIUJi3iV4fA+JUZ2xBqa4cLEXjksolv1YgZVG1UpbF+eV5nSberx3Cw56zf+JBOVq/a4ZOg5yKcp6NylH5dpazTWDTRA3f3o0jP8ZX7qHxoM5i5VSIG5W9tR2LoxUews6BliTl6EmHByUOt8jh2EqWJcYooVpfC0kXhY4H1BzuyBa9YaRxs44mjeIfK13oJ6FsPKrli+qO3kUFheo2y+aeIeTQtZqy8YmDMZzL+mIjsJ4Op/yuj3Rm7QxZnpWuDC6VHhRiVbztd/Kh/RTVgywaMcNtS5tiPpfFoAdJJWqpN+JJVCqmHk1S8qHiOwSiD1uaFOgOQy4Fgg7WdDclMSGsfWkQb6+uJroOjeXSW0Upk8vusqjpk+VuH/lg/RtslI2yLfZhLb9uRBKOsobtHLXRSRhOU8DuRQ5eJY/UQb5YQooLBWSq+dBLEhweRC6iK2DdZDMiXtYimGqylninCXYobf4hOW5q0WMwzQtyxfUSx5mtH79rEcluv7QtaQQm+HlTFFdxXzIHD6WtFhyvGwNRVrKk7jNuCJeeB+QNQ4dmWVxtZaGt0XSyelFQslDlQfiNTBq2cb0xsviccm6d6kCt8bkbLLQ2sHEOVmpLLnT00WitjqLlRwqDrtvMEvuBzvhgxx/E7XmDVxIHzkNWbwWw2NKKRiALFuOrRQtMLbN4LTPO7bznFgkKLIr98xqB8vnBJh4SUpavHupGGTz4UXMN7XBwsQx2ZQpz8tsKEsbEZr0Rrwo7sG5uhQ1kVQ6arhnY7XTLpHVTLN+80Rk6GUAOETYckHvTMVffoFsx4rAkREAA7)\n",
        "Округлите результат до 3-х знаков после запятой, используя функцию round()."
      ]
    },
    {
      "cell_type": "code",
      "metadata": {
        "id": "WYBSLmQEdFrH"
      },
      "source": [
        "# Программирование на языке высокого уровня (Python).\n",
        "# https://www.yuripetrov.ru/edu/python\n",
        "# Задание task_03_02_02.\n",
        "#\n",
        "# Выполнил: Цай А.С.\n",
        "# Группа: АДЭУ-211\n",
        "# E-mail: artem.tsay@mail.ru\n",
        "\n",
        "\n",
        "x = 0\n",
        "y = 1\n",
        "z = 2\n",
        "\n",
        "res = ((x**5+7)/(abs(-6)*y))**(1/3)\n",
        "\n",
        "\n",
        "\n",
        "\n",
        "# --------------\n",
        "# Пример вывода:\n",
        "#\n",
        "# x=0\n",
        "# y=1\n",
        "# z=2\n",
        "# 0.15\n"
      ],
      "execution_count": null,
      "outputs": []
    },
    {
      "cell_type": "markdown",
      "metadata": {
        "id": "koT_EfDvpInQ"
      },
      "source": [
        "Дана электрическая цепь, состоящая из 2-х последовательно соединенных проводников (сопротивление каждого известно). Найти общее сопротивление цепи (округление результата необходимо выполнить до 1-го знака после запятой).\n",
        "\n",
        "Решение (начало и общий ход мыслей):\n",
        "\n",
        "Аналитическое решение.\n",
        "\n",
        "Проводники соединены последовательно, поэтому общее сопротивление цепи будет равно сумме их сопротивлений. Сопротивление может быть вещественным числом, поэтому для его хранения необходимо выбрать тип float.\n",
        "\n",
        "Алгоритм.\n",
        "\n",
        "- ввести 2 вещественных значения - сопротивления проводников;\n",
        "- вычислить их сумму;\n",
        "- вывести ответ на экран.\n",
        "Программа.\n",
        "\n",
        "# здесь должна быть программа"
      ]
    },
    {
      "cell_type": "code",
      "metadata": {
        "colab": {
          "base_uri": "https://localhost:8080/"
        },
        "id": "ShbUFL3ByY8t",
        "outputId": "7bf0c6d4-d383-407c-8f58-137db54a6547"
      },
      "source": [
        "# Программирование на языке высокого уровня (Python).\n",
        "# https://www.yuripetrov.ru/edu/python\n",
        "# Задание task_03_02_03.\n",
        "#\n",
        "# Выполнил: Цай А.С.\n",
        "# Группа: АДЭУ-211\n",
        "# E-mail: artem.tsay@mail.ru\n",
        "\n",
        "\n",
        "\n",
        "r1 = float(input(\"r1=\"))\n",
        "r2 = float(input(\"r2=\"))\n",
        "\n",
        "\n",
        "r = print(r1 + r2)\n",
        "\n",
        "\n",
        "\n",
        "\n",
        "# --------------\n",
        "# Пример вывода:\n",
        "#\n",
        "# r1=12.2\n",
        "# r2=16.1\n",
        "# 28.3\n"
      ],
      "execution_count": null,
      "outputs": [
        {
          "output_type": "stream",
          "name": "stdout",
          "text": [
            "r1=12.2\n",
            "r2=16.1\n",
            "28.3\n"
          ]
        }
      ]
    },
    {
      "cell_type": "markdown",
      "metadata": {
        "id": "OxNvH9No2wYE"
      },
      "source": [
        "Дано двузначное и трехзначное число. Для каждого выведите на экран сумму и произведение цифр."
      ]
    },
    {
      "cell_type": "code",
      "metadata": {
        "id": "j930FSkC3Wi3"
      },
      "source": [
        "# Программирование на языке высокого уровня (Python).\n",
        "# https://www.yuripetrov.ru/edu/python\n",
        "# Задание task_03_02_04.\n",
        "#\n",
        "# Выполнил: Цай А.С.\n",
        "# Группа: АДЭУ-211\n",
        "# E-mail: artem.tsay@mail.ru\n",
        "\n",
        "\n",
        "# Двузначное число\n",
        "num2 = int(input(\"num2=\"))\n",
        "# Трехзначное число\n",
        "num3 = int(input(\"num3=\"))\n",
        "\n",
        "# 1-я цифра числа 'num2'\n",
        "num2_1 = # Удалите комментарий и допишите код\n",
        "# 2-я цифра числа 'num2'\n",
        "num2_2 = # Удалите комментарий и допишите код\n",
        "\n",
        "# Сумма цифр числа 'num2'\n",
        "num2_s = # Удалите комментарий и допишите код\n",
        "# Произведение цифр числа 'num2'\n",
        "num2_p = # Удалите комментарий и допишите код\n",
        "\n",
        "# 1-я цифра числа 'num3'\n",
        "num3_1 = # Удалите комментарий и допишите код\n",
        "# 2-я цифра числа 'num3'\n",
        "num3_2 = # Удалите комментарий и допишите код\n",
        "# 3-я цифра числа 'num3'\n",
        "num3_3 = # Удалите комментарий и допишите код\n",
        "\n",
        "# Сумма цифр числа 'num3'\n",
        "num3_s = # Удалите комментарий и допишите код\n",
        "# Произведение цифр числа 'num3'\n",
        "num3_p = # Удалите комментарий и допишите код\n",
        "\n",
        "# Вывод результата\n",
        "# Удалите комментарий и допишите код\n",
        "\n",
        "\n",
        "# --------------\n",
        "# Пример вывода:\n",
        "#\n",
        "# Двузначное число: 45\n",
        "# Трехзначное число: 456\n",
        "# Сумма и произведение цифр двузначного числа: 9 20\n",
        "# Сумма и произведение цифр трехзначного числа: 15 120\n"
      ],
      "execution_count": null,
      "outputs": []
    }
  ]
}