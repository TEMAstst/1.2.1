{
  "nbformat": 4,
  "nbformat_minor": 0,
  "metadata": {
    "colab": {
      "name": "Лаба3.ipynb",
      "provenance": [],
      "authorship_tag": "ABX9TyM6WacQefpY6nFByqatchFS",
      "include_colab_link": true
    },
    "kernelspec": {
      "name": "python3",
      "display_name": "Python 3"
    },
    "language_info": {
      "name": "python"
    }
  },
  "cells": [
    {
      "cell_type": "markdown",
      "metadata": {
        "id": "view-in-github",
        "colab_type": "text"
      },
      "source": [
        "<a href=\"https://colab.research.google.com/github/TEMAstst/1.2.1/blob/main/%D0%9B%D0%B0%D0%B1%D0%B03.ipynb\" target=\"_parent\"><img src=\"https://colab.research.google.com/assets/colab-badge.svg\" alt=\"Open In Colab\"/></a>"
      ]
    },
    {
      "cell_type": "markdown",
      "metadata": {
        "id": "TCSka4u_QIrE"
      },
      "source": [
        "Составьте программу, которая запрашивает у пользователя 2 целых числа и выполняет операции:\n",
        "\n",
        "арифметические: +, -, * , / , // , %, **;\n",
        "\n",
        "сравнение: <, <=, >, >=, !=, ==,\n",
        "\n",
        "выводя на экран результат каждого действия. В случае получение вещественного результата, округлите его до 2-х знаков после запятой (используя функцию round())."
      ]
    },
    {
      "cell_type": "code",
      "metadata": {
        "colab": {
          "base_uri": "https://localhost:8080/"
        },
        "id": "tXPtJAoPYnHO",
        "outputId": "7f23b9ac-27df-43e3-aa27-0d98c8b0099a"
      },
      "source": [
        "# Программирование на языке высокого уровня (Python).\n",
        "# https://www.yuripetrov.ru/edu/python\n",
        "# Задание task_03_02_01.\n",
        "#\n",
        "# Выполнил: Цай А.С.\n",
        "# Группа: АДЭУ-211\n",
        "# E-mail: artem.tsay@mail.ru\n",
        "\n",
        "\n",
        "a = int(input(\"a=\"))\n",
        "b = int(input(\"b=\"))\n",
        "\n",
        "print(a + b)\n",
        "print(a - b)\n",
        "print(a * b)\n",
        "print(round(a / b))\n",
        "print(a // b)\n",
        "print(a % b)\n",
        "print(a < b)\n",
        "# --------------\n",
        "# Пример вывода:\n",
        "#\n",
        "# a=2\n",
        "# b=3\n",
        "# 5\n",
        "# -1\n",
        "# 6\n",
        "# 0.67\n",
        "# 0\n",
        "# 2\n",
        "# 8\n",
        "# True\n",
        "# True\n",
        "# False\n",
        "# False\n",
        "# True\n",
        "# False\n"
      ],
      "execution_count": null,
      "outputs": [
        {
          "output_type": "stream",
          "name": "stdout",
          "text": [
            "a=2\n",
            "b=3\n",
            "5\n",
            "-1\n",
            "6\n",
            "1\n",
            "0\n",
            "2\n",
            "True\n"
          ]
        }
      ]
    },
    {
      "cell_type": "markdown",
      "metadata": {
        "id": "2lJLAhmbc6lb"
      },
      "source": [
        "Вычислите значение следующего выражения (аргументы - целые числа и вводятся с клавиатуры):\n",
        "\n",
        "![Снимок.GIF](data:image/gif;base64,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)\n",
        "Округлите результат до 3-х знаков после запятой, используя функцию round()."
      ]
    },
    {
      "cell_type": "code",
      "metadata": {
        "id": "WYBSLmQEdFrH"
      },
      "source": [
        "# Программирование на языке высокого уровня (Python).\n",
        "# https://www.yuripetrov.ru/edu/python\n",
        "# Задание task_03_02_02.\n",
        "#\n",
        "# Выполнил: Цай А.С.\n",
        "# Группа: АДЭУ-211\n",
        "# E-mail: artem.tsay@mail.ru\n",
        "\n",
        "\n",
        "x = 0\n",
        "y = 1\n",
        "z = 2\n",
        "\n",
        "res = ((x**5+7)/(abs(-6)*y))**(1/3)\n",
        "\n",
        "\n",
        "\n",
        "\n",
        "# --------------\n",
        "# Пример вывода:\n",
        "#\n",
        "# x=0\n",
        "# y=1\n",
        "# z=2\n",
        "# 0.15\n"
      ],
      "execution_count": null,
      "outputs": []
    },
    {
      "cell_type": "markdown",
      "metadata": {
        "id": "koT_EfDvpInQ"
      },
      "source": [
        "Дана электрическая цепь, состоящая из 2-х последовательно соединенных проводников (сопротивление каждого известно). Найти общее сопротивление цепи (округление результата необходимо выполнить до 1-го знака после запятой).\n",
        "\n",
        "Решение (начало и общий ход мыслей):\n",
        "\n",
        "Аналитическое решение.\n",
        "\n",
        "Проводники соединены последовательно, поэтому общее сопротивление цепи будет равно сумме их сопротивлений. Сопротивление может быть вещественным числом, поэтому для его хранения необходимо выбрать тип float.\n",
        "\n",
        "Алгоритм.\n",
        "\n",
        "- ввести 2 вещественных значения - сопротивления проводников;\n",
        "- вычислить их сумму;\n",
        "- вывести ответ на экран.\n",
        "Программа.\n",
        "\n",
        "# здесь должна быть программа"
      ]
    },
    {
      "cell_type": "code",
      "metadata": {
        "colab": {
          "base_uri": "https://localhost:8080/"
        },
        "id": "ShbUFL3ByY8t",
        "outputId": "7bf0c6d4-d383-407c-8f58-137db54a6547"
      },
      "source": [
        "# Программирование на языке высокого уровня (Python).\n",
        "# https://www.yuripetrov.ru/edu/python\n",
        "# Задание task_03_02_03.\n",
        "#\n",
        "# Выполнил: Цай А.С.\n",
        "# Группа: АДЭУ-211\n",
        "# E-mail: artem.tsay@mail.ru\n",
        "\n",
        "\n",
        "\n",
        "r1 = float(input(\"r1=\"))\n",
        "r2 = float(input(\"r2=\"))\n",
        "\n",
        "\n",
        "r = print(r1 + r2)\n",
        "\n",
        "\n",
        "\n",
        "\n",
        "# --------------\n",
        "# Пример вывода:\n",
        "#\n",
        "# r1=12.2\n",
        "# r2=16.1\n",
        "# 28.3\n"
      ],
      "execution_count": null,
      "outputs": [
        {
          "output_type": "stream",
          "name": "stdout",
          "text": [
            "r1=12.2\n",
            "r2=16.1\n",
            "28.3\n"
          ]
        }
      ]
    },
    {
      "cell_type": "markdown",
      "metadata": {
        "id": "OxNvH9No2wYE"
      },
      "source": [
        "Дано двузначное и трехзначное число. Для каждого выведите на экран сумму и произведение цифр."
      ]
    },
    {
      "cell_type": "code",
      "metadata": {
        "id": "j930FSkC3Wi3",
        "colab": {
          "base_uri": "https://localhost:8080/"
        },
        "outputId": "6479cbb1-e20b-4e75-c7fe-5f921105ae50"
      },
      "source": [
        "# Программирование на языке высокого уровня (Python).\n",
        "# https://www.yuripetrov.ru/edu/python\n",
        "# Задание task_03_02_04.\n",
        "#\n",
        "# Выполнил: Цай А.С.\n",
        "# Группа: АДЭУ-211\n",
        "# E-mail: artem.tsay@mail.ru\n",
        "\n",
        "\n",
        "# Двузначное число\n",
        "num2 = int(input(\"num2=\"))\n",
        "# Трехзначное число\n",
        "num3 = int(input(\"num3=\"))\n",
        "\n",
        "# 1-я цифра числа 'num2'\n",
        "num2_1 = int(input(\"num2_1\"))\n",
        "# 2-я цифра числа 'num2'\n",
        "num2_2 = int(input(\"num2_2\"))\n",
        "\n",
        "# Сумма цифр числа 'num2'\n",
        "num2_s = num2_1 + num2_2\n",
        "# Произведение цифр числа 'num2'\n",
        "num2_p = num2_1 * num2_2\n",
        "\n",
        "# 1-я цифра числа 'num3'\n",
        "num3_1 = num3//100\n",
        "# 2-я цифра числа 'num3'\n",
        "num3_2 = (num3%100)//10\n",
        "# 3-я цифра числа 'num3'\n",
        "num3_3 = num3%10\n",
        "\n",
        "# Сумма цифр числа 'num3'\n",
        "num3_s = num3_1 + num3_2 + num3_3\n",
        "# Произведение цифр числа 'num3'\n",
        "num3_p = num3_1 * num3_2 * num3_3\n",
        "\n",
        "print ('Сумма и произведение цифр двухзначного числа', num2_s, num2_p)\n",
        "print ('Сумма и произведение цифр трезхзначного числа', num3_s, num3_p)\n",
        "\n",
        "# Вывод результата\n",
        "# Удалите комментарий и допишите код\n",
        "\n",
        "\n",
        "# --------------\n",
        "# Пример вывода:\n",
        "#\n",
        "# Двузначное число: 45\n",
        "# Трехзначное число: 456\n",
        "# Сумма и произведение цифр двузначного числа: 9 20\n",
        "# Сумма и произведение цифр трехзначного числа: 15 120\n"
      ],
      "execution_count": null,
      "outputs": [
        {
          "output_type": "stream",
          "name": "stdout",
          "text": [
            "num2=45\n",
            "num3=456\n",
            "num2_14\n",
            "num2_25\n",
            "Сумма и произведение цифр двухзначного числа 9 20\n",
            "Сумма и произведение цифр трезхзначного числа 15 120\n"
          ]
        }
      ]
    },
    {
      "cell_type": "markdown",
      "metadata": {
        "id": "XXU4ML8V8PeC"
      },
      "source": [
        "С начала суток прошло m минут (0<m≤24∗60). Определите:\n",
        "\n",
        "целое количество часов, прошедших с начала суток;\n",
        "\n",
        "количество минут, прошедших с момента начала последнего часа."
      ]
    },
    {
      "cell_type": "code",
      "metadata": {
        "colab": {
          "base_uri": "https://localhost:8080/"
        },
        "id": "62KRVzyxUHIa",
        "outputId": "26a157d1-78c3-44de-ab61-6925af9b4bca"
      },
      "source": [
        "# Программирование на языке высокого уровня (Python).\n",
        "# https://www.yuripetrov.ru/edu/python\n",
        "# Задание task_03_02_05.\n",
        "#\n",
        "# Выполнил: Фамилия И.О.\n",
        "# Группа: !!!\n",
        "# E-mail: !!!\n",
        "\n",
        "\n",
        "# Количество минут\n",
        "m = int(input())\n",
        "\n",
        "# Количество часов, прошедших с начала суток\n",
        "h = int(input())\n",
        "# Количество минут, прошедших с момента начала последнего часа\n",
        "m2 = int(input())\n",
        "\n",
        "print(\"Количество часов, прошедших с начала суток:\", m == m // 60, h == m % (60 * 24) // 60, m2 == m % 60)\n",
        "print(m)\n",
        "print(h)\n",
        "print(m2)\n",
        "# --------------\n",
        "# Пример вывода:\n",
        "#\n",
        "# Количество минут, прошедшее с начала суток: 123\n",
        "# Количество часов, прошедших с начала суток: 2\n",
        "# Количество минут, прошедших с момента начала последнего часа: 3"
      ],
      "execution_count": null,
      "outputs": [
        {
          "output_type": "stream",
          "name": "stdout",
          "text": [
            "123\n",
            "2\n",
            "3\n",
            "Количество часов, прошедших с начала суток: False True True\n",
            "123\n",
            "2\n",
            "3\n"
          ]
        }
      ]
    },
    {
      "cell_type": "markdown",
      "metadata": {
        "id": "JLPKlkwYRX0V"
      },
      "source": [
        "Дано уравнение ax + b = 0 и отрезок [m;n]. Ответьте на вопрос, попадает ли решение уравнения в указанный отрезок.\n",
        "\n",
        "Решение (начало и общий ход мыслей):\n",
        "\n",
        "Аналитическое решение.\n",
        "\n",
        "Коэффициенты уравнения и величина отрезка - произвольны, возьмем целые числа. Решение x при этом может быть дробным. После определения x составим логическое выражение попадания в отрезок, что и будет ответом.\n",
        "\n",
        "Алгоритм.\n",
        "\n",
        "- ввести все неизвестные величины;\n",
        "- определить корень уравнения;\n",
        "- составить логическое выражение попадания корня в область;\n",
        "- вывести результат попадания на экран.\n",
        "Программа.\n",
        "\n",
        "# здесь должна быть программа"
      ]
    },
    {
      "cell_type": "code",
      "metadata": {
        "colab": {
          "base_uri": "https://localhost:8080/"
        },
        "id": "av-y41w852V9",
        "outputId": "c7fef075-c551-441e-fb61-161f6820afbf"
      },
      "source": [
        "# Программирование на языке высокого уровня (Python).\n",
        "# https://www.yuripetrov.ru/edu/python\n",
        "# Задание task_03_02_06.\n",
        "#\n",
        "# Выполнил: Цай А.С.\n",
        "# Группа: !!!\n",
        "# E-mail: !!!\n",
        "\n",
        "\n",
        "a = int(input(\"a=\"))\n",
        "b = int(input(\"b=\"))\n",
        "m = int(input(\"m=\"))\n",
        "n = int(input(\"n=\"))\n",
        "\n",
        "x = -b/a\n",
        "print(x)\n",
        "\n",
        "is_ok = bool(x)\n",
        "\n",
        "print(\"Попадает:\", is_ok)\n",
        "\n",
        "\n",
        "# --------------\n",
        "# Пример вывода:\n",
        "#\n",
        "# Введите a = 1\n",
        "# Введите b = 2\n",
        "# Введите m = -5\n",
        "# Введите n = 5\n",
        "# Попадает: True\n"
      ],
      "execution_count": null,
      "outputs": [
        {
          "output_type": "stream",
          "name": "stdout",
          "text": [
            "a=1\n",
            "b=2\n",
            "m=-5\n",
            "n=5\n",
            "-2.0\n",
            "Попадает: True\n"
          ]
        }
      ]
    },
    {
      "cell_type": "markdown",
      "metadata": {
        "id": "zM_wU0BJgs_k"
      },
      "source": [
        "Составьте программу, которая запрашивает название футбольной команды и повторяет его на экране со словами\n",
        "\n",
        "... - чемпион!\n",
        "После этого выполните:\n",
        "\n",
        "используя операцию дублирования, нарисуйте черту (набор \"-\"), длиной, равной размеру названия команды;\n",
        "\n",
        "преобразуйте строку в нижний регистр и выведите на экран:\n",
        "\n",
        "длину наименования команды;\n",
        "\n",
        "есть ли в наименовании команды буква \"п\" (True/False)?\n",
        "\n",
        "сколько раз повторяется буква \"а\"?"
      ]
    },
    {
      "cell_type": "markdown",
      "metadata": {
        "id": "GPkd3DBvg7Jv"
      },
      "source": [
        "Составьте программу, которая запрашивает название государства и его столицы, а затем выводит сообщение:\n",
        "\n",
        "Государство - ..., столица - ...\n",
        "На месте многоточий должны быть выведены соответствующие значения."
      ]
    },
    {
      "cell_type": "code",
      "metadata": {
        "colab": {
          "base_uri": "https://localhost:8080/"
        },
        "id": "5vY4Z7nVjIU7",
        "outputId": "a73b0268-1aa9-4a71-b3cf-d301e2b0d02b"
      },
      "source": [
        "# Программирование на языке высокого уровня (Python).\n",
        "# https://www.yuripetrov.ru/edu/python\n",
        "# Задание task_03_02_07.\n",
        "#\n",
        "# Выполнил: Цай А.С.\n",
        "# Группа: !!!\n",
        "# E-mail: !!!\n",
        "\n",
        "\n",
        "team = input(\"Введите название команды: \")\n",
        "\n",
        "print((team)+\"-чемпион!\")\n",
        "\n",
        "print(\"-\"*len(team))\n",
        "\n",
        "# Название команды в нижнем регистре\n",
        "team_lowercase =  print(team.lower())\n",
        "print(\"Символов в названии команды:\",len(team))\n",
        "print(\"Буква п есть:\", bool(\"п\" in \"Спартак\"))\n",
        "print(\"Количество букв а:\", team.find(\"а\"))\n",
        "\n",
        "\n",
        "# --------------\n",
        "# Пример вывода:\n",
        "#\n",
        "# Введите название команды: Спартак\n",
        "# Спартак - чемпион!\n",
        "# -------\n",
        "# Символов в названии команды: 7\n",
        "# Буква \"п\" есть: True\n",
        "# Количество букв \"а\": 2"
      ],
      "execution_count": null,
      "outputs": [
        {
          "output_type": "stream",
          "name": "stdout",
          "text": [
            "Введите название команды: Спартак\n",
            "Спартак-чемпион!\n",
            "-------\n",
            "спартак\n",
            "Символов в названии команды: 7\n",
            "Буква п есть: True\n",
            "Количество букв а: 2\n"
          ]
        }
      ]
    },
    {
      "cell_type": "markdown",
      "metadata": {
        "id": "VGBX3wSXhKBL"
      },
      "source": [
        "Дано слово объектно-ориентированный. Используя индексацию и срезы составьте из него слова объект, ориентир, тир, кот, рента и выведите их на экран."
      ]
    },
    {
      "cell_type": "code",
      "metadata": {
        "colab": {
          "base_uri": "https://localhost:8080/"
        },
        "id": "LH8twlaAjN7j",
        "outputId": "0b7d9e83-d88a-4b37-fed4-2d34437ce8d0"
      },
      "source": [
        "# Программирование на языке высокого уровня (Python).\n",
        "# https://www.yuripetrov.ru/edu/python\n",
        "# Задание task_03_02_08.\n",
        "#\n",
        "# Выполнил: Цай А.С.\n",
        "# Группа: !!!\n",
        "# E-mail: !!!\n",
        "\n",
        "\n",
        "# Название государства\n",
        "country = input(\"сountry:\")\n",
        "# Название столицы\n",
        "capital = input(\"сapital:\")\n",
        "\n",
        "print(\"Государство - {}, столица - {}\".format(country, capital))\n",
        "\n",
        "\n",
        "# --------------\n",
        "# Пример вывода:\n",
        "#\n",
        "# Введите название государства: Россия\n",
        "# Введите название столицы: Москва\n",
        "# Государство - Россия, столица - Москва"
      ],
      "execution_count": null,
      "outputs": [
        {
          "output_type": "stream",
          "name": "stdout",
          "text": [
            "сountry:Россия\n",
            "сapital:Москва\n",
            "Государство - Россия, столица - Москва\n"
          ]
        }
      ]
    },
    {
      "cell_type": "markdown",
      "metadata": {
        "id": "c96FmBHSZeDT"
      },
      "source": [
        "Создайте 2 пустых списка и выполните операции, описанные в заготовке."
      ]
    },
    {
      "cell_type": "code",
      "metadata": {
        "colab": {
          "base_uri": "https://localhost:8080/"
        },
        "id": "0aMHPkgWi-f9",
        "outputId": "cf75278e-bb11-4551-827d-eab55ebb7f8a"
      },
      "source": [
        "# Программирование на языке высокого уровня (Python).\n",
        "# https://www.yuripetrov.ru/edu/python\n",
        "# Задание task_03_02_09.\n",
        "#\n",
        "# Выполнил: Цай А.С.\n",
        "# Группа: !!!\n",
        "# E-mail: !!!\n",
        "\n",
        "\n",
        "word = \"объектно-ориентированный\"\n",
        "\n",
        "w1 = word[0:6]  \n",
        "w2 = word [9:17] \n",
        "w3 = word [14:17] \n",
        "w4 = word [4:15:5] \n",
        "w5 = word [10:12:2] + word [12:15] + word [19:20]\n",
        "\n",
        "print(w1, w2, w3, w4, w5, sep=\"\\n\")\n",
        "\n",
        "# --------------\n",
        "# Пример вывода:\n",
        "#\n",
        "# объект\n",
        "# ориентир\n",
        "# тир\n",
        "# кот\n",
        "# рента"
      ],
      "execution_count": null,
      "outputs": [
        {
          "output_type": "stream",
          "name": "stdout",
          "text": [
            "объект\n",
            "ориентир\n",
            "тир\n",
            "кот\n",
            "рента\n"
          ]
        }
      ]
    },
    {
      "cell_type": "code",
      "metadata": {
        "colab": {
          "base_uri": "https://localhost:8080/"
        },
        "id": "Rk0HsUsVZhI0",
        "outputId": "eed7d576-318c-4eb1-f6c0-b936992ed67f"
      },
      "source": [
        "# Программирование на языке высокого уровня (Python).\n",
        "# https://www.yuripetrov.ru/edu/python\n",
        "# Задание task_03_02_10.\n",
        "#\n",
        "# Выполнил: Цай А.С.\n",
        "# Группа: !!!\n",
        "# E-mail: !!!\n",
        "\n",
        "\n",
        "# Создать 2 пустых списка\n",
        "a = []\n",
        "b = []\n",
        "\n",
        "# Добавить 2 вещественных числа (4.5 и 3.4) в список 'a' с помощью append\n",
        "a.append(4.5)\n",
        "a.append(3.4)\n",
        "# Добавить 2 вещественных числа (8.7, 1.3) в список 'a' с помощью extend\n",
        "a.extend([8.7, 1.3])\n",
        "\n",
        "# Добавить 2 вещественных числа (14.5, 3.4) в список 'b' с помощью append\n",
        "b.append(14.5)\n",
        "b.append(3.4)\n",
        "\n",
        "# Добавить 2 вещественных числа (8.7, 11.3) в список 'b'с помощью extend\n",
        "b.extend([8.7, 11.3])\n",
        "\n",
        "# Вставить целое число 100 на 2-е и 4-е место списка 'a'\n",
        "a.insert(1, 100)\n",
        "a.insert(3, 100)\n",
        "\n",
        "# Вставить целое число 200 на 1-е и 3-е место списка 'b'\n",
        "b.insert(0, 200)\n",
        "b.insert(2, 200)\n",
        "\n",
        "# Вывести списки на экран\n",
        "print(\"Исходные списки:\")\n",
        "print('1-й', a)\n",
        "print('2-й', b)\n",
        "\n",
        "# Удалить первые элементы из списков 'a' и 'b'\n",
        "del a[0]\n",
        "del b[0]\n",
        "\n",
        "# Удалить элемент 100 из списка 'a'\n",
        "a.remove(100)\n",
        "# Удалить элемент 200 из списка 'b'\n",
        "b.remove(200)\n",
        "\n",
        "# Вывести списки на экран\n",
        "print(\"\\nПосле удалений:\")\n",
        "print('1-й', a)\n",
        "print('2-й', b)\n",
        "\n",
        "# Создать множества из списков 'a' и 'b', а также их пересечение\n",
        "sa = set(a)\n",
        "sb = set(b)\n",
        "sa_and_sb = sa & sb\n",
        "unik_a = sa - sa_and_sb\n",
        "unik_b = sb - sa_and_sb\n",
        "\n",
        "# Вывести экран уникальные элементы каждого списка и общие\n",
        "print(\"\\nУникальные элементы:\")\n",
        "print('1-й', unik_a)\n",
        "print('2-й', unik_b)\n",
        "print(\"общие:\", sa_and_sb)\n",
        "\n",
        "# Соединить списки 'a' и 'b'\n",
        "c = a + b\n",
        "\n",
        "# Отсортировать список 'c' по возрастанию и убыванию\n",
        "c_asc = sorted(c)\n",
        "c_desc = sorted(c, reverse = True)\n",
        "c_chet = c[1::2]\n",
        "c_nechet = c[::2]\n",
        "\n",
        "pp = 1\n",
        "for x in c_nechet:\n",
        "    pp *= x\n",
        "\n",
        "# Среднее арифметическое элементов списка 'c', расположенных на четных местах\n",
        "sr_ar = sum(c_chet) / len(c_chet)\n",
        "# Среднее геометрическое элементов списка 'c', расположенных на нечетных местах\n",
        "sr_geom = pp**(1/len(c_nechet))\n",
        "\n",
        "# Максимальный и минимальный элементы\n",
        "c_max = max(c)\n",
        "c_min = min(c)\n",
        "\n",
        "# Вывести результаты на экран\n",
        "print(\"\\nИтоговые:\")\n",
        "print(\"3-й:\", c)\n",
        "print('Сортировка (возр):', c_asc)\n",
        "print('Сортировка (убыв):', c_desc)\n",
        "print('Ср. арифм. =', sr_ar, 'ср. геометр. =', round(sr_geom, 2))\n",
        "print('Макс. и мин. ', c_max, c_min)\n",
        "\n",
        "# --------------\n",
        "# Пример вывода:\n",
        "#\n",
        "# Исходные списки:\n",
        "# 1-й: [4.5, 100, 3.4, 100, 8.7, 1.3]\n",
        "# 2-й: [200, 14.5, 200, 3.4, 8.7, 11.3]\n",
        "#\n",
        "# После удалений:\n",
        "# 1-й: [3.4, 100, 8.7, 1.3]\n",
        "# 2-й: [14.5, 3.4, 8.7, 11.3]\n",
        "#\n",
        "# Уникальные элементы:\n",
        "# 1-й: {8.7, 1.3, 3.4, 100}\n",
        "# 2-й: {8.7, 11.3, 3.4, 14.5}\n",
        "# общие: {8.7, 3.4}\n",
        "#\n",
        "# Итоговые:\n",
        "# 3-й: [3.4, 100, 8.7, 1.3, 14.5, 3.4, 8.7, 11.3]\n",
        "# Сортировка (возр.): [1.3, 3.4, 3.4, 8.7, 8.7, 11.3, 14.5, 100]\n",
        "# Сортировка (убыв.): [100, 14.5, 11.3, 8.7, 8.7, 3.4, 3.4, 1.3]\n",
        "# Ср. арифм. = 29.00, ср. геометр. = 7.82\n",
        "# Макс. и мин.: 100 1.3\n"
      ],
      "execution_count": null,
      "outputs": [
        {
          "output_type": "stream",
          "name": "stdout",
          "text": [
            "Исходные списки:\n",
            "1-й [4.5, 100, 3.4, 100, 8.7, 1.3]\n",
            "2-й [200, 14.5, 200, 3.4, 8.7, 11.3]\n",
            "\n",
            "После удалений:\n",
            "1-й [3.4, 100, 8.7, 1.3]\n",
            "2-й [14.5, 3.4, 8.7, 11.3]\n",
            "\n",
            "Уникальные элементы:\n",
            "1-й {1.3, 100}\n",
            "2-й {11.3, 14.5}\n",
            "общие: {8.7, 3.4}\n",
            "\n",
            "Итоговые:\n",
            "3-й: [3.4, 100, 8.7, 1.3, 14.5, 3.4, 8.7, 11.3]\n",
            "Сортировка (возр): [1.3, 3.4, 3.4, 8.7, 8.7, 11.3, 14.5, 100]\n",
            "Сортировка (убыв): [100, 14.5, 11.3, 8.7, 8.7, 3.4, 3.4, 1.3]\n",
            "Ср. арифм. = 29.0 ср. геометр. = 7.82\n",
            "Макс. и мин.  100 1.3\n"
          ]
        }
      ]
    }
  ]
}