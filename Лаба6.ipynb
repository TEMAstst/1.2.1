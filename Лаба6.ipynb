{
  "nbformat": 4,
  "nbformat_minor": 0,
  "metadata": {
    "colab": {
      "name": "Лаба6.ipynb",
      "provenance": [],
      "authorship_tag": "ABX9TyNBuxgW8YU7hpSin+TtWEuu"
    },
    "kernelspec": {
      "name": "python3",
      "display_name": "Python 3"
    },
    "language_info": {
      "name": "python"
    }
  },
  "cells": [
    {
      "cell_type": "markdown",
      "source": [
        "№ 5.2.1\n",
        "\n",
        "Определите значение z=sgn(x)+y2sgn(y)−|x|−−√, где sgn - сигнум-функция, а x и y - вещественные числа:\n",
        "\n",
        "sgn(a)=⎧⎩⎨1,a>0, 0,a=0 −1, a<0"
      ],
      "metadata": {
        "id": "Df6hBlVoudyQ"
      }
    },
    {
      "cell_type": "code",
      "execution_count": 2,
      "metadata": {
        "id": "hwtYuxJvudKh"
      },
      "outputs": [],
      "source": [
        "# Программирование на языке высокого уровня (Python).\n",
        "# https://www.yuripetrov.ru/edu/python\n",
        "# Задание task_05_02_01.\n",
        "#\n",
        "# Выполнил: Цай А.С.\n",
        "# Группа: !!!\n",
        "# E-mail: !!!\n",
        "\n",
        "import math\n",
        "def sgn(x):\n",
        "    global s\n",
        "    if x>0:\n",
        "      s=1\n",
        "    elif x == 0:\n",
        "      s=0\n",
        "    else:\n",
        "      s= -1\n",
        "    return s #Вернуть результат сигнум-функции.\n",
        "def function(x,y):\n",
        "    x1=sgn(x)\n",
        "    y1=sgn(y)\n",
        "    function1 = (x1 + y**2)/(y1 + math.sqrt(math.fabs(x)))\n",
        "    print(round(function1,2))\n",
        "\n",
        "\n",
        "# --------------\n",
        "# Пример вывода:\n",
        "#\n",
        "# Введите x: -9\n",
        "# Введите y: 0\n",
        "# Ответ: - 0.33"
      ]
    },
    {
      "cell_type": "code",
      "source": [
        "x = float(input(\"Введите х: \"))\n",
        "y = float(input(\"Введите y: \"))\n",
        "print(\"Ответ: \")\n",
        "z=function(x,y)"
      ],
      "metadata": {
        "colab": {
          "base_uri": "https://localhost:8080/"
        },
        "id": "gJKdepzJvTd2",
        "outputId": "d98935ed-c18a-494f-cf68-6146e9576694"
      },
      "execution_count": 3,
      "outputs": [
        {
          "output_type": "stream",
          "name": "stdout",
          "text": [
            "Введите х: -9\n",
            "Введите y: 0\n",
            "Ответ: \n",
            "-0.33\n"
          ]
        }
      ]
    },
    {
      "cell_type": "markdown",
      "source": [
        "№ 5.2.2\n",
        "\n",
        "Дан список температурных изменений в течение дня (целые числа). Известно, что измеряющее устройство иногда сбоит и записывает отсутствие температуры (значение None).\n",
        "\n",
        "Выведите среднюю температуру за наблюдаемый промежуток времени, предварительно очистив список от неопределенных значений. Гарантируется, что хотя бы одно определенное значение в списке есть."
      ],
      "metadata": {
        "id": "MsYTVy6PvWbz"
      }
    },
    {
      "cell_type": "code",
      "source": [
        "# Программирование на языке высокого уровня (Python).\n",
        "# https://www.yuripetrov.ru/edu/python\n",
        "# Задание task_05_02_02.\n",
        "#\n",
        "# Выполнил: Цай А.С.\n",
        "# Группа: !!!\n",
        "# E-mail: !!!\n",
        "import math\n",
        "temperature=[]\n",
        "sorted_temperature=[]\n",
        "n = int(input(\"Кол-во изменений: \"))\n",
        "x=1\n",
        "while x<=n:\n",
        "   print(\"Измерение\",x,'-е: ');\n",
        "   y=input()\n",
        "   x=x+1\n",
        "   temperature.append(y)\n",
        "for y in temperature:\n",
        "       if y!= \"-\" :\n",
        "         sorted_temperature.append(y)\n",
        "       else:\n",
        "         pass\n",
        "       k=0\n",
        "       for y in sorted_temperature:\n",
        "          y=int(y)\n",
        "          k+=y\n",
        "\n",
        "print(round(k/len(sorted_temperature),2))\n",
        "\n",
        "\n",
        "# Пример вывода:\n",
        "#\n",
        "# Кол-во измерений: 3\n",
        "# Измерение 1-е: 10\n",
        "# Измерение 2-е: -\n",
        "# Измерение 3-е: 20\n",
        "# Средняя температура: 15.00"
      ],
      "metadata": {
        "id": "5ASbMlR8v-gZ"
      },
      "execution_count": null,
      "outputs": []
    },
    {
      "cell_type": "markdown",
      "source": [
        "Выведите все счастливые номера билетов в диапазоне от a до b (положительные целые числа, a<b), если известно, что счастливым считается номер, у которого количество четных цифр равно количеству нечетных."
      ],
      "metadata": {
        "id": "gfdfPCsCwLGI"
      }
    },
    {
      "cell_type": "code",
      "source": [
        "# Программирование на языке высокого уровня (Python).\n",
        "# https://www.yuripetrov.ru/edu/python\n",
        "# Задание task_05_02_03.\n",
        "#\n",
        "# Выполнил: Цай А.С.\n",
        "# Группа: !!!\n",
        "# E-mail: !!!\n",
        "Ln = [] \n",
        "Ln1 = []\n",
        "\n",
        "def is_lucky(num):\n",
        "    ch = 0\n",
        "    nech = 0\n",
        "    for n in map(int, str(num)):\n",
        "        if n % 2 == 0:\n",
        "            ch += 1\n",
        "        else:\n",
        "            nech += 1\n",
        "    if ch == nech:\n",
        "        Ln.append(num)\n",
        "    else:\n",
        "        pass\n",
        "\n",
        "def lucky_numbers(a, b):\n",
        "    num = a   \n",
        "    while num in range(a, b + 1):\n",
        "        is_lucky(num)\n",
        "        if num in Ln:\n",
        "            Ln1.append(num)\n",
        "            num += 1\n",
        "        else:\n",
        "            num += 1\n",
        "    for i in Ln1:\n",
        "        print(i, end=\" \") \n",
        "\n",
        "a = int(input(\"Первый номер билета: \"))\n",
        "b = int(input(\"Последний номер билета: \"))\n",
        "\n",
        "print(lucky_numbers(a, b))\n",
        "\n",
        "# --------------\n",
        "# Пример вывода:\n",
        "#\n",
        "# Первый номер билета: 10\n",
        "# Последний номер билета: 25\n",
        "# 10 12 14 16 18 21 23 25"
      ],
      "metadata": {
        "colab": {
          "base_uri": "https://localhost:8080/"
        },
        "id": "FeXvvrAbweyi",
        "outputId": "fa61d7e1-11bf-4e40-db34-61aebf3fb537"
      },
      "execution_count": 4,
      "outputs": [
        {
          "output_type": "stream",
          "name": "stdout",
          "text": [
            "Первый номер билета: 10\n",
            "Последний номер билета: 25\n",
            "10 12 14 16 18 21 23 25 None\n"
          ]
        }
      ]
    },
    {
      "cell_type": "markdown",
      "source": [
        "№ 5.2.4\n",
        "\n",
        "Дата характеризуется тремя натуральными числами: день, месяц и год. Учитывая, что год может быть високосным, реализуйте две функции, которые определяют вчерашнюю и завтрашнюю дату."
      ],
      "metadata": {
        "id": "nC4755lEy7AZ"
      }
    },
    {
      "cell_type": "code",
      "source": [
        "# Программирование на языке высокого уровня (Python).\n",
        "# https://www.yuripetrov.ru/edu/python\n",
        "# Задание task_05_02_04.\n",
        "#\n",
        "# Выполнил: Цай А.С.\n",
        "# Группа: !!!\n",
        "# E-mail: !!!\n",
        "\n",
        "def is_leap(year):\n",
        "    if (year % 4 == 0 and year % 100 != 0) or (year % 400 == 0):\n",
        "        A = True\n",
        "    else:\n",
        "        A = False\n",
        "    return A\n",
        "\n",
        "def days(month, year):\n",
        "    dm31 = [1,3,5,7,8,10,12]\n",
        "    dm30 = [4,6,9,11]\n",
        "    if is_leap(year) == True:\n",
        "        dm29 = [2]\n",
        "    else:\n",
        "        dm28 = [2]\n",
        "    if month in dm31:\n",
        "        date = 31\n",
        "    elif month in dm30:\n",
        "        date = 30\n",
        "    elif month in dm29:\n",
        "        date = 29\n",
        "    else:\n",
        "        date = 28\n",
        "    return date\n",
        "\n",
        "def next_date(day, month, year):\n",
        "    if day == days(month, year):\n",
        "        month += 1\n",
        "        if month == 13:\n",
        "            month = 1\n",
        "            year += 1\n",
        "            day = 1\n",
        "        else:\n",
        "            month += 1\n",
        "            year = year\n",
        "            day = 1\n",
        "    else:\n",
        "        day += 1\n",
        "        month = month\n",
        "        year = year\n",
        "    return day, month, year\n",
        "\n",
        "def previous_date(day, month, year):\n",
        "    if day == 1:\n",
        "        month -= 1\n",
        "        if month == 0:\n",
        "            year -= 1\n",
        "            month = 12\n",
        "            day = days(12, year)\n",
        "        else:\n",
        "            year = year\n",
        "            month = month\n",
        "            day = days(month, year)\n",
        "    else:\n",
        "        day -= 1\n",
        "        month = month\n",
        "        year = year\n",
        "    return day, month, year\n",
        "\n",
        "day, month, year = input('День, месяц, год через пробел: ').split()\n",
        "day = int(day)\n",
        "month = int(month)\n",
        "year = int(year)\n",
        "print('Предыдущий день: ',previous_date(day, month, year))\n",
        "print('Следующий день: ',next_date(day, month, year))\n",
        "\n",
        "# --------------\n",
        "# Пример вывода:\n",
        "#\n",
        "# День, месяц, год через пробел: 1 3 2000\n",
        "# Предыдущий день: 29/02/2000\n",
        "# Следующий день: 02/03/2000"
      ],
      "metadata": {
        "colab": {
          "base_uri": "https://localhost:8080/"
        },
        "id": "aznhFvA2yGr9",
        "outputId": "3187e5e0-94d2-4316-f086-aa64db0b4979"
      },
      "execution_count": 12,
      "outputs": [
        {
          "output_type": "stream",
          "name": "stdout",
          "text": [
            "День, месяц, год через пробел: 1 3 2000\n",
            "Предыдущий день:  (29, 2, 2000)\n",
            "Следующий день:  (2, 3, 2000)\n"
          ]
        }
      ]
    },
    {
      "cell_type": "markdown",
      "source": [
        "№ 5.2.5\n",
        "\n",
        "В задаче № 5.2.4 замените функции получения вчерашней и завтрашней даты на одну:\n",
        "\n",
        "def another_date(day, month, year, delta=1): pass где delta - ключевой параметр, определяющий сколько дней необходимо добавить или вычесть (если аргумент отрицательный) из переданной даты. Функции, реализованные в задаче № 5.2.4 сделайте локальными для another_date(), вызывая их внутри необходимое количество раз."
      ],
      "metadata": {
        "id": "G3jZAsOiyshv"
      }
    },
    {
      "cell_type": "code",
      "source": [
        "# Программирование на языке высокого уровня (Python).\n",
        "# https://www.yuripetrov.ru/edu/python\n",
        "# Задание task_05_02_05.\n",
        "#\n",
        "# Выполнил: Цай А.С.\n",
        "# Группа: !!!\n",
        "# E-mail: !!!\n",
        "\n",
        "\n",
        "def is_leap(year):\n",
        "    if year%4==0:\n",
        "      f=29\n",
        "    else:\n",
        "      f=28\n",
        "    return f\n",
        "\n",
        "def days(month, year):\n",
        "    dayinmonte =[1,3,5,7,8,10,12]\n",
        "    dayinmonth =[4,6,9,11]\n",
        "    if month in dayinmonte:\n",
        "      date= 31\n",
        "    elif month in dayinmonth:\n",
        "      date = 30\n",
        "    else:\n",
        "      date = is_leap(year)\n",
        "    return date\n",
        "    # Удалите комментарий и допишите код\n",
        "\n",
        "\n",
        "def another_date(day, month, year, delta):\n",
        "  if delta<0:\n",
        "     day+=delta\n",
        "     if day<=0:\n",
        "       month-=1\n",
        "       if month==0:\n",
        "         month=12\n",
        "         year-=1\n",
        "         day=days(12,year)+day\n",
        "         print(days(12,year))\n",
        "       else:\n",
        "         month=month\n",
        "         year=year\n",
        "         day=days(month,year)+day\n",
        "     else:\n",
        "        day=day\n",
        "        month=month\n",
        "        year=year\n",
        "     return day, month, year\n",
        "  elif delta>0:\n",
        "        day+=delta\n",
        "        if day>days(month,year):\n",
        "          day=day-days(month,year)\n",
        "          month+=1\n",
        "          if month>12:\n",
        "            month-=12\n",
        "            year+=1\n",
        "          else:\n",
        "            month+=1\n",
        "            year=year\n",
        "        else:\n",
        "          day=day\n",
        "          month=month\n",
        "          year=year\n",
        "        return day, month, year\n",
        "  else:\n",
        "    return day, month, year\n",
        "\n",
        "    # Удалите комментарий и допишите код\n",
        "\n",
        "day, month, year = input('День, месяц, год через пробел: ').split()\n",
        "day= int(day,base=10)\n",
        "month=int(month,base=10)\n",
        "year=int(year, base = 10)\n",
        "delta = int(input('Свдиг (может быть отрицательным): '))\n",
        "print('Новый день: ', another_date(day, month, year, delta))\n",
        "\n",
        "# Удалите комментарий и допишите код\n",
        "\n",
        "# --------------\n",
        "# Пример вывода:\n",
        "#\n",
        "# День, месяц, год через пробел: 1 1 2000\n",
        "# Свдиг (может быть отрицательным): -2\n",
        "# Новый день: 30/12/1999\n",
        "#\n",
        "# День, месяц, год через пробел: 1 1 2000\n",
        "# Свдиг (может быть отрицательным): 2\n",
        "# Новый день: 03/01/2000\n"
      ],
      "metadata": {
        "colab": {
          "base_uri": "https://localhost:8080/"
        },
        "id": "uXYSekTnzeVN",
        "outputId": "b4484f25-c7e7-4a6b-de64-46f4681d11f4"
      },
      "execution_count": 11,
      "outputs": [
        {
          "output_type": "stream",
          "name": "stdout",
          "text": [
            "День, месяц, год через пробел: 1 1 2000\n",
            "Свдиг (может быть отрицательным): -2\n",
            "31\n",
            "Новый день:  (30, 12, 1999)\n"
          ]
        }
      ]
    },
    {
      "cell_type": "markdown",
      "source": [
        "№ 5.2.7\n",
        "\n",
        "Даны n предложений. Определите, сколько из них содержат хотя бы одну цифру."
      ],
      "metadata": {
        "id": "PQaRmOpl0Cn7"
      }
    },
    {
      "cell_type": "code",
      "source": [
        "# Программирование на языке высокого уровня (Python).\n",
        "# https://www.yuripetrov.ru/edu/python\n",
        "# Задание task_05_02_07.\n",
        "#\n",
        "# Выполнил: Цай А.С.\n",
        "# Группа: !!!\n",
        "# E-mail: !!!\n",
        "global d\n",
        "def has_digits(sentence):\n",
        "    d=0\n",
        "    s=[]\n",
        "    s=str(sentence)\n",
        "    numbers=[0,1,2,3,4,5,6,7,8,9]\n",
        "    if (n in s for n in numbers ) :\n",
        "      d+=1\n",
        "    else:\n",
        "      pass \n",
        "    return d   \n",
        "\n",
        "def sentences_with_digits_count(sentences):\n",
        "    print(\"Предложений с цифрой = \", has_digits(z))\n",
        "\n",
        "\n",
        "n = int(input('Введите количество предложений : '))\n",
        "x=1\n",
        "while x<=n :\n",
        "  print('Введите предложение №',x,':')\n",
        "  z=input()\n",
        "  x+=1\n",
        "sentences_with_digits_count(z)\n",
        "\n",
        "\n",
        "# --------------\n",
        "# Пример вывода:\n",
        "#\n",
        "# Введите количество предложений: 3\n",
        "# Введите предложение №1:\n",
        "# Просто текст\n",
        "# Введите предложение №2:\n",
        "# Текст с цифрой 1 (один)\n",
        "# Введите предложение №3:\n",
        "# Тут нет цифры\n",
        "# Предложений с цифрой = 1"
      ],
      "metadata": {
        "colab": {
          "base_uri": "https://localhost:8080/"
        },
        "id": "AY-LkboU0DFZ",
        "outputId": "baeeb438-cdb1-44d4-9b4e-84b4800f6068"
      },
      "execution_count": 15,
      "outputs": [
        {
          "output_type": "stream",
          "name": "stdout",
          "text": [
            "Введите количество предложений : 3\n",
            "Введите предложение № 1 :\n",
            "Просто текст\n",
            "Введите предложение № 2 :\n",
            "Текст с цифрой 1 (один)\n",
            "Введите предложение № 3 :\n",
            "Тут нет цифры\n",
            "Предложений с цифрой =  1\n"
          ]
        }
      ]
    },
    {
      "cell_type": "markdown",
      "source": [
        "Дана строка s и символ k. Реализуйте функцию, рисующую рамку из символа k вокруг данной строки, например:"
      ],
      "metadata": {
        "id": "g313cQyx0s8B"
      }
    },
    {
      "cell_type": "code",
      "source": [
        "# Программирование на языке высокого уровня (Python).\n",
        "# https://www.yuripetrov.ru/edu/python\n",
        "# Задание task_05_02_14.\n",
        "#\n",
        "# Выполнил: Цай А.С.\n",
        "# Группа: !!!\n",
        "# E-mail: !!!\n",
        "\n",
        "\n",
        "def print_with_border(s, k):\n",
        "    s_len = len(s)\n",
        "    print(k * (s_len + 2))\n",
        "    print(k + s + k)\n",
        "    print(k * (s_len + 2))\n",
        "\n",
        "s = input(\"Введите строку: \")\n",
        "k = input(\"Введите символ: \")\n",
        "print_with_border(s, k)\n",
        "\n",
        "# --------------\n",
        "# Пример вывода:\n",
        "#\n",
        "# Введите строку: Просто текст\n",
        "# Введите символ: +\n",
        "# ++++++++++++++\n",
        "# +Просто текст+\n",
        "# ++++++++++++++"
      ],
      "metadata": {
        "colab": {
          "base_uri": "https://localhost:8080/"
        },
        "id": "ES8K4wS806p2",
        "outputId": "328212b7-bc38-4e34-9c05-20c9c6e6f5f5"
      },
      "execution_count": 16,
      "outputs": [
        {
          "output_type": "stream",
          "name": "stdout",
          "text": [
            "Введите строку: Просто текст\n",
            "Введите символ: +\n",
            "++++++++++++++\n",
            "+Просто текст+\n",
            "++++++++++++++\n"
          ]
        }
      ]
    },
    {
      "cell_type": "markdown",
      "source": [
        "№ 5.2.14\n",
        "\n",
        "Напишите функцию, которая принимает неограниченное количество числовых аргументов и возвращает кортеж из двух списков:\n",
        "\n",
        "отрицательных значений (отсортирован по убыванию);\n",
        "\n",
        "неотрицательных значений (отсортирован по возрастанию)."
      ],
      "metadata": {
        "id": "osSf6X611pdm"
      }
    },
    {
      "cell_type": "code",
      "source": [
        "# Программирование на языке высокого уровня (Python).\n",
        "# https://www.yuripetrov.ru/edu/python\n",
        "# Задание task_05_02_14.\n",
        "#\n",
        "# Выполнил: Цай А.С.\n",
        "# Группа: !!!\n",
        "# E-mail: !!!\n",
        "minus=[]\n",
        "plus=[]\n",
        "numbers=list(map(int,input().split()))\n",
        "def split_numbers(numbers):\n",
        "   for n in numbers:\n",
        "     if n<0:\n",
        "       minus.append(n)\n",
        "     else:\n",
        "       plus.append(n)\n",
        "   plus.sort()\n",
        "   minus.sort()\n",
        "   minus.reverse()\n",
        "   print('(',minus ,',',plus,')')\n",
        "\n",
        "\n",
        "    # Удалите комментарий и допишите код\n",
        "\n",
        "\n",
        "print(split_numbers(numbers))\n",
        "\n",
        "# --------------\n",
        "# Пример вывода:\n",
        "#\n",
        "# ([-5, -33], [0, 1, 4])\n"
      ],
      "metadata": {
        "colab": {
          "base_uri": "https://localhost:8080/"
        },
        "id": "KgxaZ9aE1tBm",
        "outputId": "d72b6ee3-c285-400e-ef57-04e5a558c59a"
      },
      "execution_count": 21,
      "outputs": [
        {
          "output_type": "stream",
          "name": "stdout",
          "text": [
            "-5 -33 0 1 4\n",
            "( [-5, -33] , [0, 1, 4] )\n",
            "None\n"
          ]
        }
      ]
    },
    {
      "cell_type": "markdown",
      "source": [
        "№ 5.2.16\n",
        "\n",
        "Составьте две функции для возведения числа в степень: один из вариантов реализуйте в рекурсивном стиле."
      ],
      "metadata": {
        "id": "TRRlkd4z5u5b"
      }
    },
    {
      "cell_type": "code",
      "source": [
        "# Программирование на языке высокого уровня (Python).\n",
        "# https://www.yuripetrov.ru/edu/python\n",
        "# Задание task_05_02_16.\n",
        "#\n",
        "# Выполнил: Цай А.С.\n",
        "# Группа: АДЭУ_211\n",
        "\n",
        "\n",
        "def pow1(value, power): # обычное возведение в степень\n",
        "    v = value\n",
        "    p = power\n",
        "    return v ** p\n",
        "\n",
        "def pow2(value, power): # рекурсивное возведение в степень\n",
        "    if power == 1:\n",
        "        return value\n",
        "    elif power == 0:\n",
        "        return 1\n",
        "    else:\n",
        "        return (value * pow2(value, power - 1))\n",
        "\n",
        "print(pow1(5, 3))\n",
        "print(pow2(5, 3))\n",
        "\n",
        "# --------------\n",
        "# Пример вывода:\n",
        "#\n",
        "# 125\n",
        "# 125"
      ],
      "metadata": {
        "colab": {
          "base_uri": "https://localhost:8080/"
        },
        "id": "hHiopbGc6ZUc",
        "outputId": "13332690-5545-416b-d12a-72c1c625f6c1"
      },
      "execution_count": 22,
      "outputs": [
        {
          "output_type": "stream",
          "name": "stdout",
          "text": [
            "125\n",
            "125\n"
          ]
        }
      ]
    }
  ]
}