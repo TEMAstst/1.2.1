{
  "nbformat": 4,
  "nbformat_minor": 0,
  "metadata": {
    "colab": {
      "name": "Лаба6.ipynb",
      "provenance": [],
      "authorship_tag": "ABX9TyO/GGQlLSWo0s27Z2NswTVZ"
    },
    "kernelspec": {
      "name": "python3",
      "display_name": "Python 3"
    },
    "language_info": {
      "name": "python"
    }
  },
  "cells": [
    {
      "cell_type": "markdown",
      "source": [
        "6/2/1-6/2/7 Для задач 6.2.1-6.2.7 ответьте на следующие вопросы:\n",
        "\n",
        "Что выполняет приведенная функция?\n",
        "\n",
        "Какова вычислительная сложность алгоритма (наихудшая оценка, O-нотацию)?\n",
        "\n",
        "Ответы необходимо указать в строке документации с пометкой «Алгоритм» и «Сложность» соответственно. Сложность - один из вариантов:\n",
        "\n",
        "O(1), O(N), O(log(N)), O(N log(N)) или O(N^2). считая, что N - размер входных данных."
      ],
      "metadata": {
        "id": "D3Sq1K_zADpg"
      }
    },
    {
      "cell_type": "code",
      "source": [
        "# Программирование на языке высокого уровня (Python).\n",
        "# https://www.yuripetrov.ru/edu/python\n",
        "# Задание task_06_02_01.\n",
        "#\n",
        "# Выполнил: Шестаков И.А.\n",
        "# Группа: АДЭУ-211\n",
        "\n",
        "\n",
        "def foo(a):\n",
        "    \"\"\"Возвращает список с числами, такой,\n",
        "    что числа в списке записаны в порядке возрастания\n",
        "\n",
        "    Сложность: O(N^2).\n",
        "    \"\"\"\n",
        "    for i in range(len(a), 0, -1): # O(N)\n",
        "        for j in range(1, i): # O(N)\n",
        "            if a[j-1] > a[j]: # O(1)\n",
        "                a[j-1], a[j] = a[j], a[j-1]\n",
        "    return a\n",
        "\n",
        "\n",
        "a = [1, 2, 3, 4, 2, 1, 3, 4, 3, 5, -2, -2, 2, -2, 65, 2, 2]\n",
        "foo(a)"
      ],
      "metadata": {
        "colab": {
          "base_uri": "https://localhost:8080/"
        },
        "id": "lKsL4v58Adh_",
        "outputId": "01b4d7f8-d5ef-4b84-fe67-dbaee0e883fe"
      },
      "execution_count": null,
      "outputs": [
        {
          "output_type": "execute_result",
          "data": {
            "text/plain": [
              "[-2, -2, -2, 1, 1, 2, 2, 2, 2, 2, 3, 3, 3, 4, 4, 5, 65]"
            ]
          },
          "metadata": {},
          "execution_count": 4
        }
      ]
    },
    {
      "cell_type": "markdown",
      "source": [
        "6.2.2. Сравнение сложности алгоритмов\n",
        "Для каждой задачи ниже:\n",
        "\n",
        "Реализуйте требуемые способы решения.\n",
        "\n",
        "Укажите наихудшую вычислительную (асимптотическую) сложность каждого из способов в строке документации.\n",
        "\n",
        "Сравните способы решения, сопоставив их асимптотические и временные сложности (устно)."
      ],
      "metadata": {
        "id": "-LK60gP_BJDr"
      }
    },
    {
      "cell_type": "code",
      "source": [
        "# Программирование на языке высокого уровня (Python).\n",
        "# https://www.yuripetrov.ru/edu/python\n",
        "# Задание task_06_02_02.\n",
        "#\n",
        "# Выполнил: Шестаков И.А.\n",
        "# Группа: АДЭУ-211\n",
        "\n",
        "\n",
        "def foo(i):\n",
        "    \"\"\"Записывает заданное число следующим образом:\n",
        "    если число = 0 выдает 0\n",
        "    если число <0 выдает пустую строку\n",
        "    если число >0 выдает это же число\n",
        "\n",
        "    Параметры:\n",
        "        - i (int): число.\n",
        "\n",
        "    Сложность: O(N).\n",
        "    \"\"\"\n",
        "    digits = \"0123456789\"\n",
        "    if i == 0: # O(1)\n",
        "        return \"0\"\n",
        "    result = \"\"\n",
        "    while i > 0: # O(N)\n",
        "        result = digits[i%10] + result\n",
        "        i = i // 10\n",
        "    return result\n",
        "\n",
        "\"\"\"\n",
        "i = int(-833)\n",
        "foo(i)\n",
        "\n",
        "i = int(0)\n",
        "foo(i)\n",
        "\"\"\"\n",
        "i = int(55)\n",
        "foo(i)"
      ],
      "metadata": {
        "colab": {
          "base_uri": "https://localhost:8080/",
          "height": 38
        },
        "id": "MmLMLMLuBcmA",
        "outputId": "93ca6a98-1b6e-49e3-86d6-4ffa7d993830"
      },
      "execution_count": null,
      "outputs": [
        {
          "output_type": "execute_result",
          "data": {
            "application/vnd.google.colaboratory.intrinsic+json": {
              "type": "string"
            },
            "text/plain": [
              "'55'"
            ]
          },
          "metadata": {},
          "execution_count": 3
        }
      ]
    },
    {
      "cell_type": "code",
      "source": [
        "# Программирование на языке высокого уровня (Python).\n",
        "# https://www.yuripetrov.ru/edu/python\n",
        "# Задание task_06_02_03.\n",
        "#\n",
        "# Выполнил: Шестаков И.А.\n",
        "# Группа: АДЭУ-211\n",
        "\n",
        "\n",
        "def foo(s):\n",
        "    \"\"\"Находит сумму всех записаных в строке цифр \n",
        "\n",
        "    Параметры:\n",
        "        - s (str): строка.\n",
        "\n",
        "    Сложность: O(N).\n",
        "    \"\"\"\n",
        "    val = 0\n",
        "    for c in s: # O(N)\n",
        "        if c.isdigit(): # O(1)\n",
        "            val += int(c)\n",
        "    return val\n",
        "\n",
        "s = \"7, 5, 8, 25\"\n",
        "foo(s)"
      ],
      "metadata": {
        "colab": {
          "base_uri": "https://localhost:8080/"
        },
        "id": "yv4eZgv0C3bJ",
        "outputId": "84489525-384b-4b84-df35-dc1ba236ed6b"
      },
      "execution_count": null,
      "outputs": [
        {
          "output_type": "execute_result",
          "data": {
            "text/plain": [
              "27"
            ]
          },
          "metadata": {},
          "execution_count": 5
        }
      ]
    },
    {
      "cell_type": "code",
      "source": [
        "# Программирование на языке высокого уровня (Python).\n",
        "# https://www.yuripetrov.ru/edu/python\n",
        "# Задание task_06_02_04.\n",
        "#\n",
        "# Выполнил: Шестаков И.А.\n",
        "# Группа: АДЭУ-211\n",
        "\n",
        "\n",
        "def foo(n):\n",
        "    \"\"\"Списком выводит все простые числа до введенного числа включительно\n",
        "\n",
        "    Параметры:\n",
        "        - n (int): число.\n",
        "\n",
        "    Сложность: # O(N^2).\n",
        "    \"\"\"\n",
        "    res = []\n",
        "    for i in range(1, n + 1): # O(N)\n",
        "        divisors = 0\n",
        "        j = 2\n",
        "        while j < i and divisors == 0: # O(N)\n",
        "            if i % j == 0: # O(1)\n",
        "                divisors += 1\n",
        "            j += 1\n",
        "\n",
        "        if divisors == 0: # O(1)\n",
        "            res.append(i)\n",
        "\n",
        "    return res\n",
        "\n",
        "n = int(19)\n",
        "foo(n)"
      ],
      "metadata": {
        "colab": {
          "base_uri": "https://localhost:8080/"
        },
        "id": "dOQTy4JEDalX",
        "outputId": "11f9de50-3234-439c-cccb-891f662a184b"
      },
      "execution_count": null,
      "outputs": [
        {
          "output_type": "execute_result",
          "data": {
            "text/plain": [
              "[1, 2, 3, 5, 7, 11, 13, 17, 19]"
            ]
          },
          "metadata": {},
          "execution_count": 7
        }
      ]
    },
    {
      "cell_type": "code",
      "source": [
        "# Программирование на языке высокого уровня (Python).\n",
        "# https://www.yuripetrov.ru/edu/python\n",
        "# Задание task_06_02_05.\n",
        "#\n",
        "# Выполнил: Шестаков И.А.\n",
        "# Группа: АДЭУ-211\n",
        "\n",
        "\n",
        "def foo(nums):\n",
        "    \"\"\"Выдает True если хотя бы одно число из списка четное\n",
        "\n",
        "    Параметры:\n",
        "        - nums (list): список.\n",
        "\n",
        "    Сложность: O(N).\n",
        "    \"\"\"\n",
        "    for x in nums: # O(N)\n",
        "        if x % 2 == 0: # O(1)\n",
        "            return True\n",
        "    else:\n",
        "        return False\n",
        "\n",
        "nums = [1, 2, 5]\n",
        "foo(nums)"
      ],
      "metadata": {
        "colab": {
          "base_uri": "https://localhost:8080/"
        },
        "id": "uL78u7hxEgfz",
        "outputId": "a9fd5d14-754f-44c8-ca77-443154f6fac7"
      },
      "execution_count": 8,
      "outputs": [
        {
          "output_type": "execute_result",
          "data": {
            "text/plain": [
              "True"
            ]
          },
          "metadata": {},
          "execution_count": 8
        }
      ]
    },
    {
      "cell_type": "code",
      "source": [
        "# Программирование на языке высокого уровня (Python).\n",
        "# https://www.yuripetrov.ru/edu/python\n",
        "# Задание task_06_02_06.\n",
        "#\n",
        "# Выполнил: Шестаков И.А.\n",
        "# Группа: АДЭУ-211\n",
        "\n",
        "\n",
        "def foo(nums):\n",
        "    \"\"\"Считает сумму первого числа из списка и квадрата последнего числа из списка\n",
        "\n",
        "    Параметры:\n",
        "        - nums (list): список.\n",
        "\n",
        "    Сложность: O(1).\n",
        "    \"\"\"\n",
        "    return (nums[0] + nums[-1] ** 2) # O(1)\n",
        "\n",
        "nums = [1, 100000, 1]\n",
        "foo(nums)"
      ],
      "metadata": {
        "colab": {
          "base_uri": "https://localhost:8080/"
        },
        "id": "6hZ_Vy4ZFhc5",
        "outputId": "ad45951d-796c-446f-b915-ba79f5dbb3cd"
      },
      "execution_count": 9,
      "outputs": [
        {
          "output_type": "execute_result",
          "data": {
            "text/plain": [
              "2"
            ]
          },
          "metadata": {},
          "execution_count": 9
        }
      ]
    }
  ]
}